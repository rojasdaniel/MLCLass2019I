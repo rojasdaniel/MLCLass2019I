{
 "cells": [
  {
   "cell_type": "markdown",
   "metadata": {},
   "source": [
    "# Exercise 15\n",
    "\n",
    "# Fraud Detection"
   ]
  },
  {
   "cell_type": "markdown",
   "metadata": {},
   "source": [
    "## Introduction\n",
    "\n",
    "- Fraud Detection Dataset from Microsoft Azure: [data](http://gallery.cortanaintelligence.com/Experiment/8e9fe4e03b8b4c65b9ca947c72b8e463)\n",
    "\n",
    "Fraud detection is one of the earliest industrial applications of data mining and machine learning. Fraud detection is typically handled as a binary classification problem, but the class population is unbalanced because instances of fraud are usually very rare compared to the overall volume of transactions. Moreover, when fraudulent transactions are discovered, the business typically takes measures to block the accounts from transacting to prevent further losses. "
   ]
  },
  {
   "cell_type": "code",
   "execution_count": 1,
   "metadata": {},
   "outputs": [],
   "source": [
    "%matplotlib inline\n",
    "import pandas as pd\n",
    "import numpy as np\n",
    "from sklearn.model_selection import cross_val_score\n",
    "from sklearn.linear_model import LogisticRegression\n",
    "from sklearn.tree import DecisionTreeClassifier\n",
    "from sklearn import metrics"
   ]
  },
  {
   "cell_type": "code",
   "execution_count": 2,
   "metadata": {},
   "outputs": [],
   "source": [
    "import pandas as pd\n",
    "\n",
    "url = 'https://raw.githubusercontent.com/albahnsen/PracticalMachineLearningClass/master/datasets/15_fraud_detection.csv.zip'\n",
    "df = pd.read_csv(url, index_col=0)"
   ]
  },
  {
   "cell_type": "code",
   "execution_count": 3,
   "metadata": {},
   "outputs": [
    {
     "data": {
      "text/html": [
       "<div>\n",
       "<style scoped>\n",
       "    .dataframe tbody tr th:only-of-type {\n",
       "        vertical-align: middle;\n",
       "    }\n",
       "\n",
       "    .dataframe tbody tr th {\n",
       "        vertical-align: top;\n",
       "    }\n",
       "\n",
       "    .dataframe thead th {\n",
       "        text-align: right;\n",
       "    }\n",
       "</style>\n",
       "<table border=\"1\" class=\"dataframe\">\n",
       "  <thead>\n",
       "    <tr style=\"text-align: right;\">\n",
       "      <th></th>\n",
       "      <th>accountAge</th>\n",
       "      <th>digitalItemCount</th>\n",
       "      <th>sumPurchaseCount1Day</th>\n",
       "      <th>sumPurchaseAmount1Day</th>\n",
       "      <th>sumPurchaseAmount30Day</th>\n",
       "      <th>paymentBillingPostalCode - LogOddsForClass_0</th>\n",
       "      <th>accountPostalCode - LogOddsForClass_0</th>\n",
       "      <th>paymentBillingState - LogOddsForClass_0</th>\n",
       "      <th>accountState - LogOddsForClass_0</th>\n",
       "      <th>paymentInstrumentAgeInAccount</th>\n",
       "      <th>ipState - LogOddsForClass_0</th>\n",
       "      <th>transactionAmount</th>\n",
       "      <th>transactionAmountUSD</th>\n",
       "      <th>ipPostalCode - LogOddsForClass_0</th>\n",
       "      <th>localHour - LogOddsForClass_0</th>\n",
       "      <th>Label</th>\n",
       "    </tr>\n",
       "  </thead>\n",
       "  <tbody>\n",
       "    <tr>\n",
       "      <th>0</th>\n",
       "      <td>2000</td>\n",
       "      <td>0</td>\n",
       "      <td>0</td>\n",
       "      <td>0.00</td>\n",
       "      <td>720.25</td>\n",
       "      <td>5.064533</td>\n",
       "      <td>0.421214</td>\n",
       "      <td>1.312186</td>\n",
       "      <td>0.566395</td>\n",
       "      <td>3279.574306</td>\n",
       "      <td>1.218157</td>\n",
       "      <td>599.00</td>\n",
       "      <td>626.164650</td>\n",
       "      <td>1.259543</td>\n",
       "      <td>4.745402</td>\n",
       "      <td>0</td>\n",
       "    </tr>\n",
       "    <tr>\n",
       "      <th>1</th>\n",
       "      <td>62</td>\n",
       "      <td>1</td>\n",
       "      <td>1</td>\n",
       "      <td>1185.44</td>\n",
       "      <td>2530.37</td>\n",
       "      <td>0.538996</td>\n",
       "      <td>0.481838</td>\n",
       "      <td>4.401370</td>\n",
       "      <td>4.500157</td>\n",
       "      <td>61.970139</td>\n",
       "      <td>4.035601</td>\n",
       "      <td>1185.44</td>\n",
       "      <td>1185.440000</td>\n",
       "      <td>3.981118</td>\n",
       "      <td>4.921349</td>\n",
       "      <td>0</td>\n",
       "    </tr>\n",
       "    <tr>\n",
       "      <th>2</th>\n",
       "      <td>2000</td>\n",
       "      <td>0</td>\n",
       "      <td>0</td>\n",
       "      <td>0.00</td>\n",
       "      <td>0.00</td>\n",
       "      <td>5.064533</td>\n",
       "      <td>5.096396</td>\n",
       "      <td>3.056357</td>\n",
       "      <td>3.155226</td>\n",
       "      <td>0.000000</td>\n",
       "      <td>3.314186</td>\n",
       "      <td>32.09</td>\n",
       "      <td>32.090000</td>\n",
       "      <td>5.008490</td>\n",
       "      <td>4.742303</td>\n",
       "      <td>0</td>\n",
       "    </tr>\n",
       "    <tr>\n",
       "      <th>3</th>\n",
       "      <td>1</td>\n",
       "      <td>1</td>\n",
       "      <td>0</td>\n",
       "      <td>0.00</td>\n",
       "      <td>0.00</td>\n",
       "      <td>5.064533</td>\n",
       "      <td>5.096396</td>\n",
       "      <td>3.331154</td>\n",
       "      <td>3.331239</td>\n",
       "      <td>0.000000</td>\n",
       "      <td>3.529398</td>\n",
       "      <td>133.28</td>\n",
       "      <td>132.729554</td>\n",
       "      <td>1.324925</td>\n",
       "      <td>4.745402</td>\n",
       "      <td>0</td>\n",
       "    </tr>\n",
       "    <tr>\n",
       "      <th>4</th>\n",
       "      <td>1</td>\n",
       "      <td>1</td>\n",
       "      <td>0</td>\n",
       "      <td>0.00</td>\n",
       "      <td>132.73</td>\n",
       "      <td>5.412885</td>\n",
       "      <td>0.342945</td>\n",
       "      <td>5.563677</td>\n",
       "      <td>4.086965</td>\n",
       "      <td>0.001389</td>\n",
       "      <td>3.529398</td>\n",
       "      <td>543.66</td>\n",
       "      <td>543.660000</td>\n",
       "      <td>2.693451</td>\n",
       "      <td>4.876771</td>\n",
       "      <td>0</td>\n",
       "    </tr>\n",
       "  </tbody>\n",
       "</table>\n",
       "</div>"
      ],
      "text/plain": [
       "   accountAge  digitalItemCount  sumPurchaseCount1Day  sumPurchaseAmount1Day  \\\n",
       "0        2000                 0                     0                   0.00   \n",
       "1          62                 1                     1                1185.44   \n",
       "2        2000                 0                     0                   0.00   \n",
       "3           1                 1                     0                   0.00   \n",
       "4           1                 1                     0                   0.00   \n",
       "\n",
       "   sumPurchaseAmount30Day  paymentBillingPostalCode - LogOddsForClass_0  \\\n",
       "0                  720.25                                      5.064533   \n",
       "1                 2530.37                                      0.538996   \n",
       "2                    0.00                                      5.064533   \n",
       "3                    0.00                                      5.064533   \n",
       "4                  132.73                                      5.412885   \n",
       "\n",
       "   accountPostalCode - LogOddsForClass_0  \\\n",
       "0                               0.421214   \n",
       "1                               0.481838   \n",
       "2                               5.096396   \n",
       "3                               5.096396   \n",
       "4                               0.342945   \n",
       "\n",
       "   paymentBillingState - LogOddsForClass_0  accountState - LogOddsForClass_0  \\\n",
       "0                                 1.312186                          0.566395   \n",
       "1                                 4.401370                          4.500157   \n",
       "2                                 3.056357                          3.155226   \n",
       "3                                 3.331154                          3.331239   \n",
       "4                                 5.563677                          4.086965   \n",
       "\n",
       "   paymentInstrumentAgeInAccount  ipState - LogOddsForClass_0  \\\n",
       "0                    3279.574306                     1.218157   \n",
       "1                      61.970139                     4.035601   \n",
       "2                       0.000000                     3.314186   \n",
       "3                       0.000000                     3.529398   \n",
       "4                       0.001389                     3.529398   \n",
       "\n",
       "   transactionAmount  transactionAmountUSD  ipPostalCode - LogOddsForClass_0  \\\n",
       "0             599.00            626.164650                          1.259543   \n",
       "1            1185.44           1185.440000                          3.981118   \n",
       "2              32.09             32.090000                          5.008490   \n",
       "3             133.28            132.729554                          1.324925   \n",
       "4             543.66            543.660000                          2.693451   \n",
       "\n",
       "   localHour - LogOddsForClass_0  Label  \n",
       "0                       4.745402      0  \n",
       "1                       4.921349      0  \n",
       "2                       4.742303      0  \n",
       "3                       4.745402      0  \n",
       "4                       4.876771      0  "
      ]
     },
     "execution_count": 3,
     "metadata": {},
     "output_type": "execute_result"
    }
   ],
   "source": [
    "df.head()"
   ]
  },
  {
   "cell_type": "code",
   "execution_count": 4,
   "metadata": {},
   "outputs": [
    {
     "data": {
      "text/plain": [
       "((138721, 16), 797, 0.0057453449730033666)"
      ]
     },
     "execution_count": 4,
     "metadata": {},
     "output_type": "execute_result"
    }
   ],
   "source": [
    "df.shape, df.Label.sum(), df.Label.mean()"
   ]
  },
  {
   "cell_type": "code",
   "execution_count": 5,
   "metadata": {},
   "outputs": [
    {
     "data": {
      "text/plain": [
       "accountAge                                      0\n",
       "digitalItemCount                                0\n",
       "sumPurchaseCount1Day                            0\n",
       "sumPurchaseAmount1Day                           0\n",
       "sumPurchaseAmount30Day                          0\n",
       "paymentBillingPostalCode - LogOddsForClass_0    0\n",
       "accountPostalCode - LogOddsForClass_0           0\n",
       "paymentBillingState - LogOddsForClass_0         0\n",
       "accountState - LogOddsForClass_0                0\n",
       "paymentInstrumentAgeInAccount                   0\n",
       "ipState - LogOddsForClass_0                     0\n",
       "transactionAmount                               0\n",
       "transactionAmountUSD                            0\n",
       "ipPostalCode - LogOddsForClass_0                0\n",
       "localHour - LogOddsForClass_0                   0\n",
       "Label                                           0\n",
       "dtype: int64"
      ]
     },
     "execution_count": 5,
     "metadata": {},
     "output_type": "execute_result"
    }
   ],
   "source": [
    "df.isnull().sum()"
   ]
  },
  {
   "cell_type": "markdown",
   "metadata": {},
   "source": [
    "# Exercise 15.1\n",
    "\n",
    "Estimate a Logistic Regression and a Decision Tree\n",
    "\n",
    "Evaluate using the following metrics:\n",
    "* Accuracy\n",
    "* F1-Score\n",
    "* F_Beta-Score (Beta=10)\n",
    "\n",
    "Comment about the results"
   ]
  },
  {
   "cell_type": "code",
   "execution_count": 6,
   "metadata": {},
   "outputs": [],
   "source": [
    "from sklearn.model_selection import train_test_split\n",
    "X = df\n",
    "y = df.Label\n",
    "X = X.drop(['Label'], axis=1)\n",
    "feature_cols = list(X.columns)\n",
    "X_train, X_test, y_train, y_test = train_test_split(X, y, test_size=0.30, random_state=42)"
   ]
  },
  {
   "cell_type": "code",
   "execution_count": 7,
   "metadata": {},
   "outputs": [],
   "source": [
    "from sklearn.tree import DecisionTreeClassifier\n",
    "from sklearn.linear_model import LogisticRegression\n",
    "from sklearn.ensemble import RandomForestClassifier\n",
    "from sklearn.svm import LinearSVC\n",
    "import numpy as np\n",
    "import warnings\n",
    "warnings.filterwarnings('ignore')\n",
    "models = {'Logistic Regression': LogisticRegression(),\n",
    "          'Decision Tree': DecisionTreeClassifier(),\n",
    "          'RandomForest': RandomForestClassifier(),\n",
    "          'SVM': LinearSVC(dual=False)}\n",
    "y_pred = pd.DataFrame (columns =models.keys(),index= y_test.index )\n",
    "for i, model  in models.items():\n",
    "    model.fit(X_train, y_train)\n",
    "    y_pred[i] = model.predict(X_test)"
   ]
  },
  {
   "cell_type": "code",
   "execution_count": 8,
   "metadata": {},
   "outputs": [
    {
     "name": "stdout",
     "output_type": "stream",
     "text": [
      "\n",
      "Logistic Regression :\n",
      "F1 Score:  0.0\n",
      "Accurancy:  0.994112982675349\n",
      "FBeta Score:  0.0\n",
      "\n",
      "Decision Tree :\n",
      "F1 Score:  0.14233576642335763\n",
      "Accurancy:  0.9887065381935267\n",
      "FBeta Score:  0.1289572761499427\n",
      "\n",
      "RandomForest :\n",
      "F1 Score:  0.127208480565371\n",
      "Accurancy:  0.9940649253910662\n",
      "FBeta Score:  0.4494437577255871\n",
      "\n",
      "SVM :\n",
      "F1 Score:  0.0\n",
      "Accurancy:  0.994112982675349\n",
      "FBeta Score:  0.0\n"
     ]
    }
   ],
   "source": [
    "from sklearn.metrics import f1_score\n",
    "from sklearn.metrics import fbeta_score\n",
    "from sklearn.metrics import accuracy_score\n",
    "for model in models.keys():\n",
    "    print()\n",
    "    print(model,':')\n",
    "    print('F1 Score: ', f1_score(y_pred[model], y_test))\n",
    "    print('Accurancy: ', accuracy_score(y_pred[model], y_test))\n",
    "    print('FBeta Score: ', fbeta_score(y_pred[model], y_test, beta=10))\n"
   ]
  },
  {
   "cell_type": "markdown",
   "metadata": {},
   "source": [
    "# Exercise 15.2\n",
    "\n",
    "Under-sample the negative class using random-under-sampling\n",
    "\n",
    "Which is parameter for target_percentage did you choose?\n",
    "How the results change?\n",
    "\n",
    "**Only apply under-sampling to the training set, evaluate using the whole test set**"
   ]
  },
  {
   "cell_type": "code",
   "execution_count": 9,
   "metadata": {},
   "outputs": [
    {
     "name": "stdout",
     "output_type": "stream",
     "text": [
      "Total de obs:  138721\n",
      "Total de obs con 0:  137924\n",
      "Total de obs con 1:  797\n"
     ]
    }
   ],
   "source": [
    "n_samples = y.shape[0]\n",
    "n_samples_0 = (y == 0).sum()\n",
    "n_samples_1 = (y == 1).sum()\n",
    "print('Total de obs: ', n_samples)\n",
    "print('Total de obs con 0: ',n_samples_0)\n",
    "print('Total de obs con 1: ', n_samples_1)"
   ]
  },
  {
   "cell_type": "code",
   "execution_count": 10,
   "metadata": {
    "scrolled": true
   },
   "outputs": [
    {
     "name": "stdout",
     "output_type": "stream",
     "text": [
      "Porcentaje de obs con 1 del total de obs:  0.57 %\n"
     ]
    }
   ],
   "source": [
    "print('Porcentaje de obs con 1 del total de obs: ', round((n_samples_1 / n_samples)*100, 2),'%')"
   ]
  },
  {
   "cell_type": "code",
   "execution_count": 11,
   "metadata": {},
   "outputs": [],
   "source": [
    "def UnderSampling(X, y, target_percentage=0.5, seed=None):\n",
    "    # Assuming minority class is the positive\n",
    "    n_samples = y.shape[0]\n",
    "    n_samples_0 = (y == 0).sum()\n",
    "    n_samples_1 = (y == 1).sum()\n",
    "\n",
    "    n_samples_0_new =  n_samples_1 / target_percentage - n_samples_1\n",
    "    n_samples_0_new_per = n_samples_0_new / n_samples_0\n",
    "\n",
    "    filter_ = y == 0\n",
    "\n",
    "    np.random.seed(seed)\n",
    "    rand_1 = np.random.binomial(n=1, p=n_samples_0_new_per, size=n_samples)\n",
    "    \n",
    "    filter_ = filter_ & rand_1\n",
    "    filter_ = filter_ | (y == 1)\n",
    "    filter_ = filter_.astype(bool)\n",
    "    \n",
    "    return X[filter_], y[filter_]"
   ]
  },
  {
   "cell_type": "code",
   "execution_count": 12,
   "metadata": {},
   "outputs": [],
   "source": [
    "ac_s = []\n",
    "ypreds = {}\n",
    "for target_percentage in [0.1, 0.2, 0.3, 0.4, 0.5, 0.6, 0.7, 0.8, 0.9]:\n",
    "    X_u, y_u = UnderSampling(X, y, target_percentage, 1)\n",
    "    X_train, X_test, y_train, y_test = train_test_split(X_u, y_u, test_size=0.30, random_state=42)\n",
    "    y_pred_new = pd.DataFrame (columns =models.keys(),index= y_test.index )\n",
    "    for i, model  in models.items():\n",
    "        model.fit(X_train, y_train)\n",
    "        y_pred_new[i] = model.predict(X_test) \n",
    "    for model in models.keys():\n",
    "        ac_s.append([model, target_percentage, accuracy_score(y_pred_new[model], y_test), f1_score(y_pred_new[model], y_test), fbeta_score(y_pred_new[model], y_test, beta=10)])\n",
    "ac_s = pd.DataFrame(ac_s, columns=['Model', 'target_percentage', 'Acc', 'F1 Score', 'FBeta Score'])"
   ]
  },
  {
   "cell_type": "code",
   "execution_count": 13,
   "metadata": {
    "scrolled": false
   },
   "outputs": [
    {
     "data": {
      "text/html": [
       "<div>\n",
       "<style scoped>\n",
       "    .dataframe tbody tr th:only-of-type {\n",
       "        vertical-align: middle;\n",
       "    }\n",
       "\n",
       "    .dataframe tbody tr th {\n",
       "        vertical-align: top;\n",
       "    }\n",
       "\n",
       "    .dataframe thead th {\n",
       "        text-align: right;\n",
       "    }\n",
       "</style>\n",
       "<table border=\"1\" class=\"dataframe\">\n",
       "  <thead>\n",
       "    <tr style=\"text-align: right;\">\n",
       "      <th></th>\n",
       "      <th>Model</th>\n",
       "      <th>target_percentage</th>\n",
       "      <th>Acc</th>\n",
       "      <th>F1 Score</th>\n",
       "      <th>FBeta Score</th>\n",
       "    </tr>\n",
       "  </thead>\n",
       "  <tbody>\n",
       "    <tr>\n",
       "      <th>0</th>\n",
       "      <td>Logistic Regression</td>\n",
       "      <td>0.1</td>\n",
       "      <td>0.902083</td>\n",
       "      <td>0.000000</td>\n",
       "      <td>0.000000</td>\n",
       "    </tr>\n",
       "    <tr>\n",
       "      <th>1</th>\n",
       "      <td>Decision Tree</td>\n",
       "      <td>0.1</td>\n",
       "      <td>0.873750</td>\n",
       "      <td>0.356688</td>\n",
       "      <td>0.355947</td>\n",
       "    </tr>\n",
       "    <tr>\n",
       "      <th>2</th>\n",
       "      <td>RandomForest</td>\n",
       "      <td>0.1</td>\n",
       "      <td>0.919167</td>\n",
       "      <td>0.393750</td>\n",
       "      <td>0.728449</td>\n",
       "    </tr>\n",
       "    <tr>\n",
       "      <th>3</th>\n",
       "      <td>SVM</td>\n",
       "      <td>0.1</td>\n",
       "      <td>0.900833</td>\n",
       "      <td>0.032520</td>\n",
       "      <td>0.302622</td>\n",
       "    </tr>\n",
       "    <tr>\n",
       "      <th>4</th>\n",
       "      <td>Logistic Regression</td>\n",
       "      <td>0.2</td>\n",
       "      <td>0.813856</td>\n",
       "      <td>0.217544</td>\n",
       "      <td>0.565980</td>\n",
       "    </tr>\n",
       "    <tr>\n",
       "      <th>5</th>\n",
       "      <td>Decision Tree</td>\n",
       "      <td>0.2</td>\n",
       "      <td>0.801336</td>\n",
       "      <td>0.520161</td>\n",
       "      <td>0.489223</td>\n",
       "    </tr>\n",
       "    <tr>\n",
       "      <th>6</th>\n",
       "      <td>RandomForest</td>\n",
       "      <td>0.2</td>\n",
       "      <td>0.851419</td>\n",
       "      <td>0.516304</td>\n",
       "      <td>0.693681</td>\n",
       "    </tr>\n",
       "    <tr>\n",
       "      <th>7</th>\n",
       "      <td>SVM</td>\n",
       "      <td>0.2</td>\n",
       "      <td>0.809683</td>\n",
       "      <td>0.167883</td>\n",
       "      <td>0.524143</td>\n",
       "    </tr>\n",
       "    <tr>\n",
       "      <th>8</th>\n",
       "      <td>Logistic Regression</td>\n",
       "      <td>0.3</td>\n",
       "      <td>0.752866</td>\n",
       "      <td>0.361842</td>\n",
       "      <td>0.644432</td>\n",
       "    </tr>\n",
       "    <tr>\n",
       "      <th>9</th>\n",
       "      <td>Decision Tree</td>\n",
       "      <td>0.3</td>\n",
       "      <td>0.740127</td>\n",
       "      <td>0.564103</td>\n",
       "      <td>0.532854</td>\n",
       "    </tr>\n",
       "    <tr>\n",
       "      <th>10</th>\n",
       "      <td>RandomForest</td>\n",
       "      <td>0.3</td>\n",
       "      <td>0.789809</td>\n",
       "      <td>0.578005</td>\n",
       "      <td>0.658949</td>\n",
       "    </tr>\n",
       "    <tr>\n",
       "      <th>11</th>\n",
       "      <td>SVM</td>\n",
       "      <td>0.3</td>\n",
       "      <td>0.747771</td>\n",
       "      <td>0.292857</td>\n",
       "      <td>0.665756</td>\n",
       "    </tr>\n",
       "    <tr>\n",
       "      <th>12</th>\n",
       "      <td>Logistic Regression</td>\n",
       "      <td>0.4</td>\n",
       "      <td>0.669506</td>\n",
       "      <td>0.497409</td>\n",
       "      <td>0.695104</td>\n",
       "    </tr>\n",
       "    <tr>\n",
       "      <th>13</th>\n",
       "      <td>Decision Tree</td>\n",
       "      <td>0.4</td>\n",
       "      <td>0.705281</td>\n",
       "      <td>0.644764</td>\n",
       "      <td>0.659362</td>\n",
       "    </tr>\n",
       "    <tr>\n",
       "      <th>14</th>\n",
       "      <td>RandomForest</td>\n",
       "      <td>0.4</td>\n",
       "      <td>0.756388</td>\n",
       "      <td>0.687090</td>\n",
       "      <td>0.753337</td>\n",
       "    </tr>\n",
       "    <tr>\n",
       "      <th>15</th>\n",
       "      <td>SVM</td>\n",
       "      <td>0.4</td>\n",
       "      <td>0.667802</td>\n",
       "      <td>0.468665</td>\n",
       "      <td>0.720890</td>\n",
       "    </tr>\n",
       "    <tr>\n",
       "      <th>16</th>\n",
       "      <td>Logistic Regression</td>\n",
       "      <td>0.5</td>\n",
       "      <td>0.655462</td>\n",
       "      <td>0.668016</td>\n",
       "      <td>0.640075</td>\n",
       "    </tr>\n",
       "    <tr>\n",
       "      <th>17</th>\n",
       "      <td>Decision Tree</td>\n",
       "      <td>0.5</td>\n",
       "      <td>0.651261</td>\n",
       "      <td>0.661224</td>\n",
       "      <td>0.638243</td>\n",
       "    </tr>\n",
       "    <tr>\n",
       "      <th>18</th>\n",
       "      <td>RandomForest</td>\n",
       "      <td>0.5</td>\n",
       "      <td>0.724790</td>\n",
       "      <td>0.705618</td>\n",
       "      <td>0.750237</td>\n",
       "    </tr>\n",
       "    <tr>\n",
       "      <th>19</th>\n",
       "      <td>SVM</td>\n",
       "      <td>0.5</td>\n",
       "      <td>0.644958</td>\n",
       "      <td>0.662675</td>\n",
       "      <td>0.627095</td>\n",
       "    </tr>\n",
       "    <tr>\n",
       "      <th>20</th>\n",
       "      <td>Logistic Regression</td>\n",
       "      <td>0.6</td>\n",
       "      <td>0.701754</td>\n",
       "      <td>0.781651</td>\n",
       "      <td>0.715978</td>\n",
       "    </tr>\n",
       "    <tr>\n",
       "      <th>21</th>\n",
       "      <td>Decision Tree</td>\n",
       "      <td>0.6</td>\n",
       "      <td>0.701754</td>\n",
       "      <td>0.753623</td>\n",
       "      <td>0.770831</td>\n",
       "    </tr>\n",
       "    <tr>\n",
       "      <th>22</th>\n",
       "      <td>RandomForest</td>\n",
       "      <td>0.6</td>\n",
       "      <td>0.704261</td>\n",
       "      <td>0.745690</td>\n",
       "      <td>0.796145</td>\n",
       "    </tr>\n",
       "    <tr>\n",
       "      <th>23</th>\n",
       "      <td>SVM</td>\n",
       "      <td>0.6</td>\n",
       "      <td>0.676692</td>\n",
       "      <td>0.762431</td>\n",
       "      <td>0.700472</td>\n",
       "    </tr>\n",
       "    <tr>\n",
       "      <th>24</th>\n",
       "      <td>Logistic Regression</td>\n",
       "      <td>0.7</td>\n",
       "      <td>0.708455</td>\n",
       "      <td>0.814126</td>\n",
       "      <td>0.741204</td>\n",
       "    </tr>\n",
       "    <tr>\n",
       "      <th>25</th>\n",
       "      <td>Decision Tree</td>\n",
       "      <td>0.7</td>\n",
       "      <td>0.673469</td>\n",
       "      <td>0.768595</td>\n",
       "      <td>0.768595</td>\n",
       "    </tr>\n",
       "    <tr>\n",
       "      <th>26</th>\n",
       "      <td>RandomForest</td>\n",
       "      <td>0.7</td>\n",
       "      <td>0.734694</td>\n",
       "      <td>0.814664</td>\n",
       "      <td>0.803436</td>\n",
       "    </tr>\n",
       "    <tr>\n",
       "      <th>27</th>\n",
       "      <td>SVM</td>\n",
       "      <td>0.7</td>\n",
       "      <td>0.725948</td>\n",
       "      <td>0.828467</td>\n",
       "      <td>0.743369</td>\n",
       "    </tr>\n",
       "    <tr>\n",
       "      <th>28</th>\n",
       "      <td>Logistic Regression</td>\n",
       "      <td>0.8</td>\n",
       "      <td>0.798658</td>\n",
       "      <td>0.884615</td>\n",
       "      <td>0.819718</td>\n",
       "    </tr>\n",
       "    <tr>\n",
       "      <th>29</th>\n",
       "      <td>Decision Tree</td>\n",
       "      <td>0.8</td>\n",
       "      <td>0.694631</td>\n",
       "      <td>0.804301</td>\n",
       "      <td>0.826963</td>\n",
       "    </tr>\n",
       "    <tr>\n",
       "      <th>30</th>\n",
       "      <td>RandomForest</td>\n",
       "      <td>0.8</td>\n",
       "      <td>0.818792</td>\n",
       "      <td>0.891566</td>\n",
       "      <td>0.857799</td>\n",
       "    </tr>\n",
       "    <tr>\n",
       "      <th>31</th>\n",
       "      <td>SVM</td>\n",
       "      <td>0.8</td>\n",
       "      <td>0.802013</td>\n",
       "      <td>0.886320</td>\n",
       "      <td>0.822621</td>\n",
       "    </tr>\n",
       "    <tr>\n",
       "      <th>32</th>\n",
       "      <td>Logistic Regression</td>\n",
       "      <td>0.9</td>\n",
       "      <td>0.924242</td>\n",
       "      <td>0.960474</td>\n",
       "      <td>0.928112</td>\n",
       "    </tr>\n",
       "    <tr>\n",
       "      <th>33</th>\n",
       "      <td>Decision Tree</td>\n",
       "      <td>0.9</td>\n",
       "      <td>0.863636</td>\n",
       "      <td>0.925311</td>\n",
       "      <td>0.936741</td>\n",
       "    </tr>\n",
       "    <tr>\n",
       "      <th>34</th>\n",
       "      <td>RandomForest</td>\n",
       "      <td>0.9</td>\n",
       "      <td>0.905303</td>\n",
       "      <td>0.949900</td>\n",
       "      <td>0.929809</td>\n",
       "    </tr>\n",
       "    <tr>\n",
       "      <th>35</th>\n",
       "      <td>SVM</td>\n",
       "      <td>0.9</td>\n",
       "      <td>0.924242</td>\n",
       "      <td>0.960630</td>\n",
       "      <td>0.924936</td>\n",
       "    </tr>\n",
       "  </tbody>\n",
       "</table>\n",
       "</div>"
      ],
      "text/plain": [
       "                  Model  target_percentage       Acc  F1 Score  FBeta Score\n",
       "0   Logistic Regression                0.1  0.902083  0.000000     0.000000\n",
       "1         Decision Tree                0.1  0.873750  0.356688     0.355947\n",
       "2          RandomForest                0.1  0.919167  0.393750     0.728449\n",
       "3                   SVM                0.1  0.900833  0.032520     0.302622\n",
       "4   Logistic Regression                0.2  0.813856  0.217544     0.565980\n",
       "5         Decision Tree                0.2  0.801336  0.520161     0.489223\n",
       "6          RandomForest                0.2  0.851419  0.516304     0.693681\n",
       "7                   SVM                0.2  0.809683  0.167883     0.524143\n",
       "8   Logistic Regression                0.3  0.752866  0.361842     0.644432\n",
       "9         Decision Tree                0.3  0.740127  0.564103     0.532854\n",
       "10         RandomForest                0.3  0.789809  0.578005     0.658949\n",
       "11                  SVM                0.3  0.747771  0.292857     0.665756\n",
       "12  Logistic Regression                0.4  0.669506  0.497409     0.695104\n",
       "13        Decision Tree                0.4  0.705281  0.644764     0.659362\n",
       "14         RandomForest                0.4  0.756388  0.687090     0.753337\n",
       "15                  SVM                0.4  0.667802  0.468665     0.720890\n",
       "16  Logistic Regression                0.5  0.655462  0.668016     0.640075\n",
       "17        Decision Tree                0.5  0.651261  0.661224     0.638243\n",
       "18         RandomForest                0.5  0.724790  0.705618     0.750237\n",
       "19                  SVM                0.5  0.644958  0.662675     0.627095\n",
       "20  Logistic Regression                0.6  0.701754  0.781651     0.715978\n",
       "21        Decision Tree                0.6  0.701754  0.753623     0.770831\n",
       "22         RandomForest                0.6  0.704261  0.745690     0.796145\n",
       "23                  SVM                0.6  0.676692  0.762431     0.700472\n",
       "24  Logistic Regression                0.7  0.708455  0.814126     0.741204\n",
       "25        Decision Tree                0.7  0.673469  0.768595     0.768595\n",
       "26         RandomForest                0.7  0.734694  0.814664     0.803436\n",
       "27                  SVM                0.7  0.725948  0.828467     0.743369\n",
       "28  Logistic Regression                0.8  0.798658  0.884615     0.819718\n",
       "29        Decision Tree                0.8  0.694631  0.804301     0.826963\n",
       "30         RandomForest                0.8  0.818792  0.891566     0.857799\n",
       "31                  SVM                0.8  0.802013  0.886320     0.822621\n",
       "32  Logistic Regression                0.9  0.924242  0.960474     0.928112\n",
       "33        Decision Tree                0.9  0.863636  0.925311     0.936741\n",
       "34         RandomForest                0.9  0.905303  0.949900     0.929809\n",
       "35                  SVM                0.9  0.924242  0.960630     0.924936"
      ]
     },
     "execution_count": 13,
     "metadata": {},
     "output_type": "execute_result"
    }
   ],
   "source": [
    "ac_s"
   ]
  },
  {
   "cell_type": "code",
   "execution_count": 14,
   "metadata": {},
   "outputs": [
    {
     "data": {
      "text/plain": [
       "<matplotlib.axes._subplots.AxesSubplot at 0x1cf54ec9978>"
      ]
     },
     "execution_count": 14,
     "metadata": {},
     "output_type": "execute_result"
    },
    {
     "data": {
      "image/png": "[encoded data removed]",
      "text/plain": [
       "<Figure size 432x288 with 1 Axes>"
      ]
     },
     "metadata": {
      "needs_background": "light"
     },
     "output_type": "display_data"
    }
   ],
   "source": [
    "import seaborn as sns\n",
    "sns.lineplot(x=\"target_percentage\", y=\"Acc\", hue=\"Model\", data=ac_s)"
   ]
  },
  {
   "cell_type": "code",
   "execution_count": 15,
   "metadata": {},
   "outputs": [
    {
     "data": {
      "text/plain": [
       "<matplotlib.axes._subplots.AxesSubplot at 0x1cf549b2e48>"
      ]
     },
     "execution_count": 15,
     "metadata": {},
     "output_type": "execute_result"
    },
    {
     "data": {
      "image/png": "[encoded data removed]",
      "text/plain": [
       "<Figure size 432x288 with 1 Axes>"
      ]
     },
     "metadata": {
      "needs_background": "light"
     },
     "output_type": "display_data"
    }
   ],
   "source": [
    "sns.lineplot(x=\"target_percentage\", y=\"F1 Score\", hue=\"Model\", data=ac_s)"
   ]
  },
  {
   "cell_type": "code",
   "execution_count": 16,
   "metadata": {
    "scrolled": true
   },
   "outputs": [
    {
     "data": {
      "text/plain": [
       "<matplotlib.axes._subplots.AxesSubplot at 0x1cf54b7e780>"
      ]
     },
     "execution_count": 16,
     "metadata": {},
     "output_type": "execute_result"
    },
    {
     "data": {
      "image/png": "[encoded data removed]",
      "text/plain": [
       "<Figure size 432x288 with 1 Axes>"
      ]
     },
     "metadata": {
      "needs_background": "light"
     },
     "output_type": "display_data"
    }
   ],
   "source": [
    "sns.lineplot(x=\"target_percentage\", y=\"FBeta Score\", hue=\"Model\", data=ac_s)"
   ]
  },
  {
   "cell_type": "markdown",
   "metadata": {},
   "source": [
    "Se puede observar en los resultados que en la gráfica del FBeta Score el modelo más estable (definido por el que tiene una pendiente menos empinada) es RandomForest, siendo este un modelo que con un target_percentage del 60% logra un acc de 70.4% (el minimo de la función de Acc y que junto con el Decision Tree logran tener un comportamiento muy similar solo que este último modelo en el FB Score reacciona mucho más fuerte ante cambios en los cortes del target_percentage. \n",
    "\n",
    "Adicionalmente, el omodelo Logistic Regression es un modelo que visto desde la gráfica de Acc tambien tiene un comportamiento convexo (pero RandomForest es mejor por el acc minimo que logra tener ) y su pendiente tanto en el F1 como en el FBeta es muy inclinada (lo que significa que reacciona muy fuerte ante cambios en los cortes del target_porcentage).\n",
    "\n",
    "Por esto se concluye que el mejor modelo es RandomForest con un corte de balanceo del 60% obteniendo un Acc de 70.4% "
   ]
  },
  {
   "cell_type": "code",
   "execution_count": 17,
   "metadata": {
    "scrolled": false
   },
   "outputs": [
    {
     "name": "stdout",
     "output_type": "stream",
     "text": [
      "Resampled dataset shape Counter({1: 560, 0: 555})\n",
      "\n",
      "Logistic Regression :\n",
      "F1 Score:  0.6363636363636365\n",
      "Accurancy:  0.5824634655532359\n",
      "FBeta Score:  0.5604528014712877\n",
      "\n",
      "Decision Tree :\n",
      "F1 Score:  0.6569037656903766\n",
      "Accurancy:  0.6576200417536534\n",
      "FBeta Score:  0.6515593540699347\n",
      "\n",
      "RandomForest :\n",
      "F1 Score:  0.6968325791855204\n",
      "Accurancy:  0.7202505219206681\n",
      "FBeta Score:  0.7500602787288421\n",
      "\n",
      "SVM :\n",
      "F1 Score:  0.6489361702127658\n",
      "Accurancy:  0.5866388308977035\n",
      "FBeta Score:  0.5611622187813097\n"
     ]
    }
   ],
   "source": [
    "from collections import Counter\n",
    "from imblearn.under_sampling import RandomUnderSampler\n",
    "rus = RandomUnderSampler(random_state=42)\n",
    "X_res, y_res = rus.fit_resample(X, y)\n",
    "X_train, X_test, y_train, y_test = train_test_split(X_res, y_res, test_size=0.30, random_state=42)\n",
    "print('Resampled dataset shape %s' % Counter(y_train))\n",
    "for key, value  in models.items():\n",
    "    value.fit(X_train, y_train.ravel())\n",
    "    y_pred = value.predict(X_test)\n",
    "    print()\n",
    "    print(key,':')\n",
    "    print('F1 Score: ', f1_score(y_pred, y_test))\n",
    "    print('Accurancy: ', accuracy_score(y_pred, y_test))\n",
    "    print('FBeta Score: ', fbeta_score(y_pred, y_test, beta=10))"
   ]
  },
  {
   "cell_type": "markdown",
   "metadata": {},
   "source": [
    "# Exercise 15.3\n",
    "\n",
    "Same analysis using random-over-sampling"
   ]
  },
  {
   "cell_type": "code",
   "execution_count": 18,
   "metadata": {},
   "outputs": [],
   "source": [
    "import random\n",
    "def OverSampling(X, y, target_percentage=0.5, seed=None):\n",
    "    # Assuming minority class is the positive\n",
    "    n_samples = y.shape[0]\n",
    "    n_samples_0 = (y == 0).sum()\n",
    "    n_samples_1 = (y == 1).sum()\n",
    "    n_samples_1_new =  -target_percentage * n_samples_0 / (target_percentage- 1)\n",
    "    np.random.seed(seed)\n",
    "    filter_ = np.random.choice(X[y == 1].shape[0], int(n_samples_1_new))\n",
    "    # filter_ is within the positives, change to be of all\n",
    "    filter_ = np.nonzero(y == 1)[0][filter_]\n",
    "    filter_ = np.concatenate((filter_, np.nonzero(y == 0)[0]), axis=0)\n",
    "    return X[filter_], y[filter_]"
   ]
  },
  {
   "cell_type": "code",
   "execution_count": 19,
   "metadata": {},
   "outputs": [
    {
     "name": "stderr",
     "output_type": "stream",
     "text": [
      "C:\\ProgramData\\Anaconda3\\lib\\site-packages\\sklearn\\svm\\base.py:922: ConvergenceWarning: Liblinear failed to converge, increase the number of iterations.\n",
      "  \"the number of iterations.\", ConvergenceWarning)\n",
      "C:\\ProgramData\\Anaconda3\\lib\\site-packages\\sklearn\\svm\\base.py:922: ConvergenceWarning: Liblinear failed to converge, increase the number of iterations.\n",
      "  \"the number of iterations.\", ConvergenceWarning)\n"
     ]
    }
   ],
   "source": [
    "ac_s=[]\n",
    "for target_percentage in [0.1, 0.2, 0.3, 0.4, 0.5, 0.6, 0.7, 0.8, 0.9]:\n",
    "    X_train, X_test, y_train, y_test = train_test_split(X, y, test_size=0.30, random_state=42)\n",
    "    X_train, y_train = OverSampling(X.values, y, target_percentage, 1)\n",
    "    y_pred_new = pd.DataFrame (columns =models.keys(),index= y_test.index )\n",
    "    for i, model  in models.items():\n",
    "        model.fit(X_train, y_train)\n",
    "        y_pred_new[i] = model.predict(X_test) \n",
    "    for model in models.keys():\n",
    "        ac_s.append([model, target_percentage, accuracy_score(y_pred_new[model], y_test), f1_score(y_pred_new[model], y_test), fbeta_score(y_pred_new[model], y_test, beta=10)])\n",
    "ac_s = pd.DataFrame(ac_s, columns=['Model', 'target_percentage', 'Acc', 'F1 Score', 'FBeta Score'])"
   ]
  },
  {
   "cell_type": "code",
   "execution_count": 20,
   "metadata": {},
   "outputs": [
    {
     "data": {
      "text/html": [
       "<div>\n",
       "<style scoped>\n",
       "    .dataframe tbody tr th:only-of-type {\n",
       "        vertical-align: middle;\n",
       "    }\n",
       "\n",
       "    .dataframe tbody tr th {\n",
       "        vertical-align: top;\n",
       "    }\n",
       "\n",
       "    .dataframe thead th {\n",
       "        text-align: right;\n",
       "    }\n",
       "</style>\n",
       "<table border=\"1\" class=\"dataframe\">\n",
       "  <thead>\n",
       "    <tr style=\"text-align: right;\">\n",
       "      <th></th>\n",
       "      <th>Model</th>\n",
       "      <th>target_percentage</th>\n",
       "      <th>Acc</th>\n",
       "      <th>F1 Score</th>\n",
       "      <th>FBeta Score</th>\n",
       "    </tr>\n",
       "  </thead>\n",
       "  <tbody>\n",
       "    <tr>\n",
       "      <th>0</th>\n",
       "      <td>Logistic Regression</td>\n",
       "      <td>0.1</td>\n",
       "      <td>0.993993</td>\n",
       "      <td>0.000000</td>\n",
       "      <td>0.000000</td>\n",
       "    </tr>\n",
       "    <tr>\n",
       "      <th>1</th>\n",
       "      <td>Decision Tree</td>\n",
       "      <td>0.1</td>\n",
       "      <td>0.999327</td>\n",
       "      <td>0.945946</td>\n",
       "      <td>0.898348</td>\n",
       "    </tr>\n",
       "    <tr>\n",
       "      <th>2</th>\n",
       "      <td>RandomForest</td>\n",
       "      <td>0.1</td>\n",
       "      <td>0.999327</td>\n",
       "      <td>0.945946</td>\n",
       "      <td>0.898348</td>\n",
       "    </tr>\n",
       "    <tr>\n",
       "      <th>3</th>\n",
       "      <td>SVM</td>\n",
       "      <td>0.1</td>\n",
       "      <td>0.993921</td>\n",
       "      <td>0.000000</td>\n",
       "      <td>0.000000</td>\n",
       "    </tr>\n",
       "    <tr>\n",
       "      <th>4</th>\n",
       "      <td>Logistic Regression</td>\n",
       "      <td>0.2</td>\n",
       "      <td>0.993320</td>\n",
       "      <td>0.000000</td>\n",
       "      <td>0.000000</td>\n",
       "    </tr>\n",
       "    <tr>\n",
       "      <th>5</th>\n",
       "      <td>Decision Tree</td>\n",
       "      <td>0.2</td>\n",
       "      <td>0.999327</td>\n",
       "      <td>0.945946</td>\n",
       "      <td>0.898348</td>\n",
       "    </tr>\n",
       "    <tr>\n",
       "      <th>6</th>\n",
       "      <td>RandomForest</td>\n",
       "      <td>0.2</td>\n",
       "      <td>0.999327</td>\n",
       "      <td>0.945946</td>\n",
       "      <td>0.898348</td>\n",
       "    </tr>\n",
       "    <tr>\n",
       "      <th>7</th>\n",
       "      <td>SVM</td>\n",
       "      <td>0.2</td>\n",
       "      <td>0.988394</td>\n",
       "      <td>0.051081</td>\n",
       "      <td>0.049278</td>\n",
       "    </tr>\n",
       "    <tr>\n",
       "      <th>8</th>\n",
       "      <td>Logistic Regression</td>\n",
       "      <td>0.3</td>\n",
       "      <td>0.947545</td>\n",
       "      <td>0.039595</td>\n",
       "      <td>0.022384</td>\n",
       "    </tr>\n",
       "    <tr>\n",
       "      <th>9</th>\n",
       "      <td>Decision Tree</td>\n",
       "      <td>0.3</td>\n",
       "      <td>0.999327</td>\n",
       "      <td>0.945946</td>\n",
       "      <td>0.898348</td>\n",
       "    </tr>\n",
       "    <tr>\n",
       "      <th>10</th>\n",
       "      <td>RandomForest</td>\n",
       "      <td>0.3</td>\n",
       "      <td>0.999303</td>\n",
       "      <td>0.944123</td>\n",
       "      <td>0.895099</td>\n",
       "    </tr>\n",
       "    <tr>\n",
       "      <th>11</th>\n",
       "      <td>SVM</td>\n",
       "      <td>0.3</td>\n",
       "      <td>0.967633</td>\n",
       "      <td>0.046709</td>\n",
       "      <td>0.028476</td>\n",
       "    </tr>\n",
       "    <tr>\n",
       "      <th>12</th>\n",
       "      <td>Logistic Regression</td>\n",
       "      <td>0.4</td>\n",
       "      <td>0.909100</td>\n",
       "      <td>0.039604</td>\n",
       "      <td>0.021312</td>\n",
       "    </tr>\n",
       "    <tr>\n",
       "      <th>13</th>\n",
       "      <td>Decision Tree</td>\n",
       "      <td>0.4</td>\n",
       "      <td>0.999327</td>\n",
       "      <td>0.945946</td>\n",
       "      <td>0.898348</td>\n",
       "    </tr>\n",
       "    <tr>\n",
       "      <th>14</th>\n",
       "      <td>RandomForest</td>\n",
       "      <td>0.4</td>\n",
       "      <td>0.999279</td>\n",
       "      <td>0.942308</td>\n",
       "      <td>0.891872</td>\n",
       "    </tr>\n",
       "    <tr>\n",
       "      <th>15</th>\n",
       "      <td>SVM</td>\n",
       "      <td>0.4</td>\n",
       "      <td>0.926016</td>\n",
       "      <td>0.032065</td>\n",
       "      <td>0.017530</td>\n",
       "    </tr>\n",
       "    <tr>\n",
       "      <th>16</th>\n",
       "      <td>Logistic Regression</td>\n",
       "      <td>0.5</td>\n",
       "      <td>0.552635</td>\n",
       "      <td>0.019486</td>\n",
       "      <td>0.009968</td>\n",
       "    </tr>\n",
       "    <tr>\n",
       "      <th>17</th>\n",
       "      <td>Decision Tree</td>\n",
       "      <td>0.5</td>\n",
       "      <td>0.999327</td>\n",
       "      <td>0.945946</td>\n",
       "      <td>0.898348</td>\n",
       "    </tr>\n",
       "    <tr>\n",
       "      <th>18</th>\n",
       "      <td>RandomForest</td>\n",
       "      <td>0.5</td>\n",
       "      <td>0.999303</td>\n",
       "      <td>0.944123</td>\n",
       "      <td>0.895099</td>\n",
       "    </tr>\n",
       "    <tr>\n",
       "      <th>19</th>\n",
       "      <td>SVM</td>\n",
       "      <td>0.5</td>\n",
       "      <td>0.486820</td>\n",
       "      <td>0.018385</td>\n",
       "      <td>0.009389</td>\n",
       "    </tr>\n",
       "    <tr>\n",
       "      <th>20</th>\n",
       "      <td>Logistic Regression</td>\n",
       "      <td>0.6</td>\n",
       "      <td>0.397914</td>\n",
       "      <td>0.017719</td>\n",
       "      <td>0.009034</td>\n",
       "    </tr>\n",
       "    <tr>\n",
       "      <th>21</th>\n",
       "      <td>Decision Tree</td>\n",
       "      <td>0.6</td>\n",
       "      <td>0.999327</td>\n",
       "      <td>0.945946</td>\n",
       "      <td>0.898348</td>\n",
       "    </tr>\n",
       "    <tr>\n",
       "      <th>22</th>\n",
       "      <td>RandomForest</td>\n",
       "      <td>0.6</td>\n",
       "      <td>0.999327</td>\n",
       "      <td>0.945946</td>\n",
       "      <td>0.898348</td>\n",
       "    </tr>\n",
       "    <tr>\n",
       "      <th>23</th>\n",
       "      <td>SVM</td>\n",
       "      <td>0.6</td>\n",
       "      <td>0.313934</td>\n",
       "      <td>0.016127</td>\n",
       "      <td>0.008213</td>\n",
       "    </tr>\n",
       "    <tr>\n",
       "      <th>24</th>\n",
       "      <td>Logistic Regression</td>\n",
       "      <td>0.7</td>\n",
       "      <td>0.247904</td>\n",
       "      <td>0.014918</td>\n",
       "      <td>0.007591</td>\n",
       "    </tr>\n",
       "    <tr>\n",
       "      <th>25</th>\n",
       "      <td>Decision Tree</td>\n",
       "      <td>0.7</td>\n",
       "      <td>0.999327</td>\n",
       "      <td>0.945946</td>\n",
       "      <td>0.898348</td>\n",
       "    </tr>\n",
       "    <tr>\n",
       "      <th>26</th>\n",
       "      <td>RandomForest</td>\n",
       "      <td>0.7</td>\n",
       "      <td>0.999303</td>\n",
       "      <td>0.944123</td>\n",
       "      <td>0.895099</td>\n",
       "    </tr>\n",
       "    <tr>\n",
       "      <th>27</th>\n",
       "      <td>SVM</td>\n",
       "      <td>0.7</td>\n",
       "      <td>0.201504</td>\n",
       "      <td>0.014239</td>\n",
       "      <td>0.007243</td>\n",
       "    </tr>\n",
       "    <tr>\n",
       "      <th>28</th>\n",
       "      <td>Logistic Regression</td>\n",
       "      <td>0.8</td>\n",
       "      <td>0.161472</td>\n",
       "      <td>0.013624</td>\n",
       "      <td>0.006928</td>\n",
       "    </tr>\n",
       "    <tr>\n",
       "      <th>29</th>\n",
       "      <td>Decision Tree</td>\n",
       "      <td>0.8</td>\n",
       "      <td>0.999327</td>\n",
       "      <td>0.945946</td>\n",
       "      <td>0.898348</td>\n",
       "    </tr>\n",
       "    <tr>\n",
       "      <th>30</th>\n",
       "      <td>RandomForest</td>\n",
       "      <td>0.8</td>\n",
       "      <td>0.999327</td>\n",
       "      <td>0.945946</td>\n",
       "      <td>0.898348</td>\n",
       "    </tr>\n",
       "    <tr>\n",
       "      <th>31</th>\n",
       "      <td>SVM</td>\n",
       "      <td>0.8</td>\n",
       "      <td>0.155129</td>\n",
       "      <td>0.013523</td>\n",
       "      <td>0.006876</td>\n",
       "    </tr>\n",
       "    <tr>\n",
       "      <th>32</th>\n",
       "      <td>Logistic Regression</td>\n",
       "      <td>0.9</td>\n",
       "      <td>0.017733</td>\n",
       "      <td>0.011845</td>\n",
       "      <td>0.006017</td>\n",
       "    </tr>\n",
       "    <tr>\n",
       "      <th>33</th>\n",
       "      <td>Decision Tree</td>\n",
       "      <td>0.9</td>\n",
       "      <td>0.999327</td>\n",
       "      <td>0.945946</td>\n",
       "      <td>0.898348</td>\n",
       "    </tr>\n",
       "    <tr>\n",
       "      <th>34</th>\n",
       "      <td>RandomForest</td>\n",
       "      <td>0.9</td>\n",
       "      <td>0.999231</td>\n",
       "      <td>0.938697</td>\n",
       "      <td>0.885489</td>\n",
       "    </tr>\n",
       "    <tr>\n",
       "      <th>35</th>\n",
       "      <td>SVM</td>\n",
       "      <td>0.9</td>\n",
       "      <td>0.010164</td>\n",
       "      <td>0.011755</td>\n",
       "      <td>0.005971</td>\n",
       "    </tr>\n",
       "  </tbody>\n",
       "</table>\n",
       "</div>"
      ],
      "text/plain": [
       "                  Model  target_percentage       Acc  F1 Score  FBeta Score\n",
       "0   Logistic Regression                0.1  0.993993  0.000000     0.000000\n",
       "1         Decision Tree                0.1  0.999327  0.945946     0.898348\n",
       "2          RandomForest                0.1  0.999327  0.945946     0.898348\n",
       "3                   SVM                0.1  0.993921  0.000000     0.000000\n",
       "4   Logistic Regression                0.2  0.993320  0.000000     0.000000\n",
       "5         Decision Tree                0.2  0.999327  0.945946     0.898348\n",
       "6          RandomForest                0.2  0.999327  0.945946     0.898348\n",
       "7                   SVM                0.2  0.988394  0.051081     0.049278\n",
       "8   Logistic Regression                0.3  0.947545  0.039595     0.022384\n",
       "9         Decision Tree                0.3  0.999327  0.945946     0.898348\n",
       "10         RandomForest                0.3  0.999303  0.944123     0.895099\n",
       "11                  SVM                0.3  0.967633  0.046709     0.028476\n",
       "12  Logistic Regression                0.4  0.909100  0.039604     0.021312\n",
       "13        Decision Tree                0.4  0.999327  0.945946     0.898348\n",
       "14         RandomForest                0.4  0.999279  0.942308     0.891872\n",
       "15                  SVM                0.4  0.926016  0.032065     0.017530\n",
       "16  Logistic Regression                0.5  0.552635  0.019486     0.009968\n",
       "17        Decision Tree                0.5  0.999327  0.945946     0.898348\n",
       "18         RandomForest                0.5  0.999303  0.944123     0.895099\n",
       "19                  SVM                0.5  0.486820  0.018385     0.009389\n",
       "20  Logistic Regression                0.6  0.397914  0.017719     0.009034\n",
       "21        Decision Tree                0.6  0.999327  0.945946     0.898348\n",
       "22         RandomForest                0.6  0.999327  0.945946     0.898348\n",
       "23                  SVM                0.6  0.313934  0.016127     0.008213\n",
       "24  Logistic Regression                0.7  0.247904  0.014918     0.007591\n",
       "25        Decision Tree                0.7  0.999327  0.945946     0.898348\n",
       "26         RandomForest                0.7  0.999303  0.944123     0.895099\n",
       "27                  SVM                0.7  0.201504  0.014239     0.007243\n",
       "28  Logistic Regression                0.8  0.161472  0.013624     0.006928\n",
       "29        Decision Tree                0.8  0.999327  0.945946     0.898348\n",
       "30         RandomForest                0.8  0.999327  0.945946     0.898348\n",
       "31                  SVM                0.8  0.155129  0.013523     0.006876\n",
       "32  Logistic Regression                0.9  0.017733  0.011845     0.006017\n",
       "33        Decision Tree                0.9  0.999327  0.945946     0.898348\n",
       "34         RandomForest                0.9  0.999231  0.938697     0.885489\n",
       "35                  SVM                0.9  0.010164  0.011755     0.005971"
      ]
     },
     "execution_count": 20,
     "metadata": {},
     "output_type": "execute_result"
    }
   ],
   "source": [
    "ac_s"
   ]
  },
  {
   "cell_type": "code",
   "execution_count": 21,
   "metadata": {},
   "outputs": [
    {
     "data": {
      "text/plain": [
       "<matplotlib.axes._subplots.AxesSubplot at 0x1cf54cae6a0>"
      ]
     },
     "execution_count": 21,
     "metadata": {},
     "output_type": "execute_result"
    },
    {
     "data": {
      "image/png": "[encoded data removed]",
      "text/plain": [
       "<Figure size 432x288 with 1 Axes>"
      ]
     },
     "metadata": {
      "needs_background": "light"
     },
     "output_type": "display_data"
    }
   ],
   "source": [
    "import seaborn as sns\n",
    "sns.lineplot(x=\"target_percentage\", y=\"Acc\", hue=\"Model\", data=ac_s)"
   ]
  },
  {
   "cell_type": "code",
   "execution_count": 22,
   "metadata": {},
   "outputs": [
    {
     "data": {
      "text/plain": [
       "<matplotlib.axes._subplots.AxesSubplot at 0x1cf550167f0>"
      ]
     },
     "execution_count": 22,
     "metadata": {},
     "output_type": "execute_result"
    },
    {
     "data": {
      "image/png": "[encoded data removed]",
      "text/plain": [
       "<Figure size 432x288 with 1 Axes>"
      ]
     },
     "metadata": {
      "needs_background": "light"
     },
     "output_type": "display_data"
    }
   ],
   "source": [
    "sns.lineplot(x=\"target_percentage\", y=\"F1 Score\", hue=\"Model\", data=ac_s)"
   ]
  },
  {
   "cell_type": "code",
   "execution_count": 23,
   "metadata": {
    "scrolled": false
   },
   "outputs": [
    {
     "data": {
      "text/plain": [
       "<matplotlib.axes._subplots.AxesSubplot at 0x1cf54fdbcf8>"
      ]
     },
     "execution_count": 23,
     "metadata": {},
     "output_type": "execute_result"
    },
    {
     "data": {
      "image/png": "[encoded data removed]",
      "text/plain": [
       "<Figure size 432x288 with 1 Axes>"
      ]
     },
     "metadata": {
      "needs_background": "light"
     },
     "output_type": "display_data"
    }
   ],
   "source": [
    "sns.lineplot(x=\"target_percentage\", y=\"FBeta Score\", hue=\"Model\", data=ac_s)"
   ]
  },
  {
   "cell_type": "code",
   "execution_count": 24,
   "metadata": {},
   "outputs": [
    {
     "name": "stdout",
     "output_type": "stream",
     "text": [
      "Resampled dataset shape Counter({0: 96840, 1: 96253})\n",
      "\n",
      "Logistic Regression :\n",
      "F1 Score:  0.6927667499047699\n",
      "Accurancy:  0.6491329829013353\n",
      "FBeta Score:  0.6208649125103209\n",
      "\n",
      "Decision Tree :\n",
      "F1 Score:  0.9966277623648714\n",
      "Accurancy:  0.9965923509153526\n",
      "FBeta Score:  0.9933443018609285\n",
      "\n",
      "RandomForest :\n",
      "F1 Score:  0.9992326691125338\n",
      "Accurancy:  0.9992266328318531\n",
      "FBeta Score:  0.9984816748834152\n",
      "\n",
      "SVM :\n",
      "F1 Score:  0.6899550748923133\n",
      "Accurancy:  0.6355628058727569\n",
      "FBeta Score:  0.6050223220063439\n"
     ]
    }
   ],
   "source": [
    "from imblearn.over_sampling import RandomOverSampler\n",
    "from collections import Counter\n",
    "ros = RandomOverSampler(random_state=42)\n",
    "X_ros, y_ros = ros.fit_resample(X, y)\n",
    "X_train, X_test, y_train, y_test = train_test_split(X_ros, y_ros, test_size=0.30, random_state=42)\n",
    "print('Resampled dataset shape %s' % Counter(y_train))\n",
    "for key, value  in models.items():\n",
    "    value.fit(X_train, y_train.ravel())\n",
    "    y_pred = value.predict(X_test)\n",
    "    print()\n",
    "    print(key,':')\n",
    "    print('F1 Score: ', f1_score(y_pred, y_test))\n",
    "    print('Accurancy: ', accuracy_score(y_pred, y_test))\n",
    "    print('FBeta Score: ', fbeta_score(y_pred, y_test, beta=10))"
   ]
  },
  {
   "cell_type": "markdown",
   "metadata": {},
   "source": [
    "# Exercise 15.4 (3 points)\n",
    "\n",
    "Evaluate the results using SMOTE\n",
    "\n",
    "Which parameters did you choose?"
   ]
  },
  {
   "cell_type": "code",
   "execution_count": 25,
   "metadata": {},
   "outputs": [],
   "source": [
    "def SMOTE(X, y, target_percentage=0.5, k=5, seed=None):\n",
    "    n_samples = y.shape[0]\n",
    "    n_samples_0 = (y == 0).sum()\n",
    "    n_samples_1 = (y == 1).sum()  \n",
    "    # New samples\n",
    "    n_samples_1_new =  int(-target_percentage * n_samples_0 / (target_percentage- 1) - n_samples_1)\n",
    "    # A matrix to store the synthetic samples\n",
    "    new = np.zeros((n_samples_1_new, X.shape[1]))\n",
    "    # Create seeds\n",
    "    np.random.seed(seed)\n",
    "    seeds = np.random.randint(1, 1000000, 3)\n",
    "    # Select examples to use as base\n",
    "    np.random.seed(seeds[0])\n",
    "    sel_ = np.random.choice(y[y==1].shape[0], n_samples_1_new)\n",
    "    # Define random seeds (2 per example)\n",
    "    np.random.seed(seeds[1])\n",
    "    nn__ = np.random.choice(k, n_samples_1_new)\n",
    "    np.random.seed(seeds[2])\n",
    "    steps = np.random.uniform(size=n_samples_1_new)  \n",
    "    # For each selected examples create one synthetic case\n",
    "    for i, sel in enumerate(sel_):\n",
    "        # Select neighbor\n",
    "        nn_ = nn__[i]\n",
    "        step = steps[i]\n",
    "        # Create new sample\n",
    "        new[i, :] = X[y==1][sel] - step * (X[y==1][sel] - X[y==1][nn_])\n",
    "    X = np.vstack((X, new))\n",
    "    y = np.append(y, np.ones(n_samples_1_new))\n",
    "    return X, y"
   ]
  },
  {
   "cell_type": "code",
   "execution_count": 26,
   "metadata": {
    "scrolled": true
   },
   "outputs": [],
   "source": [
    "ac_s =[]\n",
    "for target_percentage in [0.25, 0.5]:\n",
    "    for k in [5, 15]:\n",
    "        X_sm, y_sm = SMOTE(X.values, y, target_percentage, k, seed=3)\n",
    "        X_train, X_test, y_train, y_test = train_test_split(X_sm, y_sm, test_size=0.30, random_state=42)\n",
    "        for key, value  in models.items():\n",
    "            value.fit(X_train, y_train)\n",
    "            y_pred = value.predict(X_test) \n",
    "            ac_s.append([key, target_percentage, k, accuracy_score(y_pred, y_test), f1_score(y_pred, y_test), fbeta_score(y_pred, y_test, beta=10)])\n",
    "ac_s = pd.DataFrame(ac_s, columns=['Model', 'target_percentage','k', 'Acc', 'F1 Score', 'FBeta Score'])"
   ]
  },
  {
   "cell_type": "code",
   "execution_count": 27,
   "metadata": {
    "scrolled": false
   },
   "outputs": [
    {
     "data": {
      "text/html": [
       "<div>\n",
       "<style scoped>\n",
       "    .dataframe tbody tr th:only-of-type {\n",
       "        vertical-align: middle;\n",
       "    }\n",
       "\n",
       "    .dataframe tbody tr th {\n",
       "        vertical-align: top;\n",
       "    }\n",
       "\n",
       "    .dataframe thead th {\n",
       "        text-align: right;\n",
       "    }\n",
       "</style>\n",
       "<table border=\"1\" class=\"dataframe\">\n",
       "  <thead>\n",
       "    <tr style=\"text-align: right;\">\n",
       "      <th></th>\n",
       "      <th>Model</th>\n",
       "      <th>target_percentage</th>\n",
       "      <th>k</th>\n",
       "      <th>Acc</th>\n",
       "      <th>F1 Score</th>\n",
       "      <th>FBeta Score</th>\n",
       "    </tr>\n",
       "  </thead>\n",
       "  <tbody>\n",
       "    <tr>\n",
       "      <th>0</th>\n",
       "      <td>Logistic Regression</td>\n",
       "      <td>0.25</td>\n",
       "      <td>5</td>\n",
       "      <td>0.788617</td>\n",
       "      <td>0.467245</td>\n",
       "      <td>0.646018</td>\n",
       "    </tr>\n",
       "    <tr>\n",
       "      <th>1</th>\n",
       "      <td>Decision Tree</td>\n",
       "      <td>0.25</td>\n",
       "      <td>5</td>\n",
       "      <td>0.984067</td>\n",
       "      <td>0.968733</td>\n",
       "      <td>0.967283</td>\n",
       "    </tr>\n",
       "    <tr>\n",
       "      <th>2</th>\n",
       "      <td>RandomForest</td>\n",
       "      <td>0.25</td>\n",
       "      <td>5</td>\n",
       "      <td>0.992152</td>\n",
       "      <td>0.984388</td>\n",
       "      <td>0.996182</td>\n",
       "    </tr>\n",
       "    <tr>\n",
       "      <th>3</th>\n",
       "      <td>SVM</td>\n",
       "      <td>0.25</td>\n",
       "      <td>5</td>\n",
       "      <td>0.774588</td>\n",
       "      <td>0.380862</td>\n",
       "      <td>0.623975</td>\n",
       "    </tr>\n",
       "    <tr>\n",
       "      <th>4</th>\n",
       "      <td>Logistic Regression</td>\n",
       "      <td>0.25</td>\n",
       "      <td>15</td>\n",
       "      <td>0.749955</td>\n",
       "      <td>0.172018</td>\n",
       "      <td>0.523191</td>\n",
       "    </tr>\n",
       "    <tr>\n",
       "      <th>5</th>\n",
       "      <td>Decision Tree</td>\n",
       "      <td>0.25</td>\n",
       "      <td>15</td>\n",
       "      <td>0.980714</td>\n",
       "      <td>0.962003</td>\n",
       "      <td>0.964298</td>\n",
       "    </tr>\n",
       "    <tr>\n",
       "      <th>6</th>\n",
       "      <td>RandomForest</td>\n",
       "      <td>0.25</td>\n",
       "      <td>15</td>\n",
       "      <td>0.987874</td>\n",
       "      <td>0.975679</td>\n",
       "      <td>0.995654</td>\n",
       "    </tr>\n",
       "    <tr>\n",
       "      <th>7</th>\n",
       "      <td>SVM</td>\n",
       "      <td>0.25</td>\n",
       "      <td>15</td>\n",
       "      <td>0.743883</td>\n",
       "      <td>0.061379</td>\n",
       "      <td>0.402484</td>\n",
       "    </tr>\n",
       "    <tr>\n",
       "      <th>8</th>\n",
       "      <td>Logistic Regression</td>\n",
       "      <td>0.50</td>\n",
       "      <td>5</td>\n",
       "      <td>0.793076</td>\n",
       "      <td>0.789626</td>\n",
       "      <td>0.808554</td>\n",
       "    </tr>\n",
       "    <tr>\n",
       "      <th>9</th>\n",
       "      <td>Decision Tree</td>\n",
       "      <td>0.50</td>\n",
       "      <td>5</td>\n",
       "      <td>0.989100</td>\n",
       "      <td>0.989187</td>\n",
       "      <td>0.988281</td>\n",
       "    </tr>\n",
       "    <tr>\n",
       "      <th>10</th>\n",
       "      <td>RandomForest</td>\n",
       "      <td>0.50</td>\n",
       "      <td>5</td>\n",
       "      <td>0.994417</td>\n",
       "      <td>0.994434</td>\n",
       "      <td>0.998348</td>\n",
       "    </tr>\n",
       "    <tr>\n",
       "      <th>11</th>\n",
       "      <td>SVM</td>\n",
       "      <td>0.50</td>\n",
       "      <td>5</td>\n",
       "      <td>0.754867</td>\n",
       "      <td>0.745885</td>\n",
       "      <td>0.779499</td>\n",
       "    </tr>\n",
       "    <tr>\n",
       "      <th>12</th>\n",
       "      <td>Logistic Regression</td>\n",
       "      <td>0.50</td>\n",
       "      <td>15</td>\n",
       "      <td>0.683644</td>\n",
       "      <td>0.665568</td>\n",
       "      <td>0.710590</td>\n",
       "    </tr>\n",
       "    <tr>\n",
       "      <th>13</th>\n",
       "      <td>Decision Tree</td>\n",
       "      <td>0.50</td>\n",
       "      <td>15</td>\n",
       "      <td>0.984110</td>\n",
       "      <td>0.984221</td>\n",
       "      <td>0.984256</td>\n",
       "    </tr>\n",
       "    <tr>\n",
       "      <th>14</th>\n",
       "      <td>RandomForest</td>\n",
       "      <td>0.50</td>\n",
       "      <td>15</td>\n",
       "      <td>0.992073</td>\n",
       "      <td>0.992088</td>\n",
       "      <td>0.997204</td>\n",
       "    </tr>\n",
       "    <tr>\n",
       "      <th>15</th>\n",
       "      <td>SVM</td>\n",
       "      <td>0.50</td>\n",
       "      <td>15</td>\n",
       "      <td>0.667537</td>\n",
       "      <td>0.660681</td>\n",
       "      <td>0.679230</td>\n",
       "    </tr>\n",
       "  </tbody>\n",
       "</table>\n",
       "</div>"
      ],
      "text/plain": [
       "                  Model  target_percentage   k       Acc  F1 Score  \\\n",
       "0   Logistic Regression               0.25   5  0.788617  0.467245   \n",
       "1         Decision Tree               0.25   5  0.984067  0.968733   \n",
       "2          RandomForest               0.25   5  0.992152  0.984388   \n",
       "3                   SVM               0.25   5  0.774588  0.380862   \n",
       "4   Logistic Regression               0.25  15  0.749955  0.172018   \n",
       "5         Decision Tree               0.25  15  0.980714  0.962003   \n",
       "6          RandomForest               0.25  15  0.987874  0.975679   \n",
       "7                   SVM               0.25  15  0.743883  0.061379   \n",
       "8   Logistic Regression               0.50   5  0.793076  0.789626   \n",
       "9         Decision Tree               0.50   5  0.989100  0.989187   \n",
       "10         RandomForest               0.50   5  0.994417  0.994434   \n",
       "11                  SVM               0.50   5  0.754867  0.745885   \n",
       "12  Logistic Regression               0.50  15  0.683644  0.665568   \n",
       "13        Decision Tree               0.50  15  0.984110  0.984221   \n",
       "14         RandomForest               0.50  15  0.992073  0.992088   \n",
       "15                  SVM               0.50  15  0.667537  0.660681   \n",
       "\n",
       "    FBeta Score  \n",
       "0      0.646018  \n",
       "1      0.967283  \n",
       "2      0.996182  \n",
       "3      0.623975  \n",
       "4      0.523191  \n",
       "5      0.964298  \n",
       "6      0.995654  \n",
       "7      0.402484  \n",
       "8      0.808554  \n",
       "9      0.988281  \n",
       "10     0.998348  \n",
       "11     0.779499  \n",
       "12     0.710590  \n",
       "13     0.984256  \n",
       "14     0.997204  \n",
       "15     0.679230  "
      ]
     },
     "execution_count": 27,
     "metadata": {},
     "output_type": "execute_result"
    }
   ],
   "source": [
    "ac_s"
   ]
  },
  {
   "cell_type": "code",
   "execution_count": 28,
   "metadata": {},
   "outputs": [
    {
     "data": {
      "text/plain": [
       "<matplotlib.axes._subplots.AxesSubplot at 0x1cf00012518>"
      ]
     },
     "execution_count": 28,
     "metadata": {},
     "output_type": "execute_result"
    },
    {
     "data": {
      "image/png": "[encoded data removed]",
      "text/plain": [
       "<Figure size 432x288 with 1 Axes>"
      ]
     },
     "metadata": {
      "needs_background": "light"
     },
     "output_type": "display_data"
    }
   ],
   "source": [
    "import seaborn as sns\n",
    "sns.lineplot(x=\"target_percentage\", y=\"Acc\", hue=\"Model\", data=ac_s[ac_s['k']==5])"
   ]
  },
  {
   "cell_type": "code",
   "execution_count": 29,
   "metadata": {},
   "outputs": [
    {
     "data": {
      "text/plain": [
       "<matplotlib.axes._subplots.AxesSubplot at 0x1cf5da96f98>"
      ]
     },
     "execution_count": 29,
     "metadata": {},
     "output_type": "execute_result"
    },
    {
     "data": {
      "image/png": "[encoded data removed]",
      "text/plain": [
       "<Figure size 432x288 with 1 Axes>"
      ]
     },
     "metadata": {
      "needs_background": "light"
     },
     "output_type": "display_data"
    }
   ],
   "source": [
    "sns.lineplot(x=\"target_percentage\", y=\"Acc\", hue=\"Model\", data=ac_s[ac_s['k']==15])"
   ]
  },
  {
   "cell_type": "code",
   "execution_count": 30,
   "metadata": {},
   "outputs": [
    {
     "data": {
      "text/plain": [
       "<matplotlib.axes._subplots.AxesSubplot at 0x1cf00124e80>"
      ]
     },
     "execution_count": 30,
     "metadata": {},
     "output_type": "execute_result"
    },
    {
     "data": {
      "image/png": "[encoded data removed]",
      "text/plain": [
       "<Figure size 432x288 with 1 Axes>"
      ]
     },
     "metadata": {
      "needs_background": "light"
     },
     "output_type": "display_data"
    }
   ],
   "source": [
    "sns.lineplot(x=\"target_percentage\", y=\"F1 Score\", hue=\"Model\", data=ac_s[ac_s['k']==5])"
   ]
  },
  {
   "cell_type": "code",
   "execution_count": 31,
   "metadata": {},
   "outputs": [
    {
     "data": {
      "text/plain": [
       "<matplotlib.axes._subplots.AxesSubplot at 0x1cf001ba278>"
      ]
     },
     "execution_count": 31,
     "metadata": {},
     "output_type": "execute_result"
    },
    {
     "data": {
      "image/png": "[encoded data removed]",
      "text/plain": [
       "<Figure size 432x288 with 1 Axes>"
      ]
     },
     "metadata": {
      "needs_background": "light"
     },
     "output_type": "display_data"
    }
   ],
   "source": [
    "sns.lineplot(x=\"target_percentage\", y=\"F1 Score\", hue=\"Model\", data=ac_s[ac_s['k']==15])"
   ]
  },
  {
   "cell_type": "code",
   "execution_count": 32,
   "metadata": {},
   "outputs": [
    {
     "data": {
      "text/plain": [
       "<matplotlib.axes._subplots.AxesSubplot at 0x1cf001ae198>"
      ]
     },
     "execution_count": 32,
     "metadata": {},
     "output_type": "execute_result"
    },
    {
     "data": {
      "image/png": "[encoded data removed]",
      "text/plain": [
       "<Figure size 432x288 with 1 Axes>"
      ]
     },
     "metadata": {
      "needs_background": "light"
     },
     "output_type": "display_data"
    }
   ],
   "source": [
    "sns.lineplot(x=\"target_percentage\", y=\"FBeta Score\", hue=\"Model\", data=ac_s[ac_s['k']==5])"
   ]
  },
  {
   "cell_type": "code",
   "execution_count": 33,
   "metadata": {},
   "outputs": [
    {
     "data": {
      "text/plain": [
       "<matplotlib.axes._subplots.AxesSubplot at 0x1cf00480be0>"
      ]
     },
     "execution_count": 33,
     "metadata": {},
     "output_type": "execute_result"
    },
    {
     "data": {
      "image/png": "[encoded data removed]",
      "text/plain": [
       "<Figure size 432x288 with 1 Axes>"
      ]
     },
     "metadata": {
      "needs_background": "light"
     },
     "output_type": "display_data"
    }
   ],
   "source": [
    "sns.lineplot(x=\"target_percentage\", y=\"FBeta Score\", hue=\"Model\", data=ac_s[ac_s['k']==15])"
   ]
  },
  {
   "cell_type": "markdown",
   "metadata": {},
   "source": [
    "Dado que con la función vista en clase los modelos RandomForest y Decision Tree no muestran cambios evaluables, se procede a utilizar la función SMOTE del paquete Imblearn.over_sampling para comparar"
   ]
  },
  {
   "cell_type": "code",
   "execution_count": 34,
   "metadata": {},
   "outputs": [
    {
     "name": "stdout",
     "output_type": "stream",
     "text": [
      "Resampled dataset shape Counter({0: 96840, 1: 96253})\n",
      "\n",
      "Logistic Regression :\n",
      "F1 Score:  0.6990925355118229\n",
      "Accurancy:  0.6626185728958975\n",
      "FBeta Score:  0.6356732582714605\n",
      "\n",
      "Decision Tree :\n",
      "F1 Score:  0.9898520337866171\n",
      "Accurancy:  0.9897649688840553\n",
      "FBeta Score:  0.9884242648370519\n",
      "\n",
      "RandomForest :\n",
      "F1 Score:  0.9959628971019368\n",
      "Accurancy:  0.9959398223672286\n",
      "FBeta Score:  0.9973018825355205\n",
      "\n",
      "SVM :\n",
      "F1 Score:  0.6931342655872148\n",
      "Accurancy:  0.6473204036009909\n",
      "FBeta Score:  0.6181632365444629\n"
     ]
    }
   ],
   "source": [
    "from collections import Counter\n",
    "from imblearn.over_sampling import SMOTE\n",
    "sm = SMOTE(random_state=42)\n",
    "X_sm, y_sm = sm.fit_resample(X, y)\n",
    "X_train, X_test, y_train, y_test = train_test_split(X_sm, y_sm, test_size=0.30, random_state=42)\n",
    "print('Resampled dataset shape %s' % Counter(y_train))\n",
    "for key, value  in models.items():\n",
    "    value.fit(X_train, y_train.ravel())\n",
    "    y_pred = value.predict(X_test)\n",
    "    print()\n",
    "    print(key,':')\n",
    "    print('F1 Score: ', f1_score(y_pred, y_test))\n",
    "    print('Accurancy: ', accuracy_score(y_pred, y_test))\n",
    "    print('FBeta Score: ', fbeta_score(y_pred, y_test, beta=10))"
   ]
  },
  {
   "cell_type": "markdown",
   "metadata": {},
   "source": [
    "# Exercise 15.5 (3 points)\n",
    "\n",
    "Evaluate the results using Adaptive Synthetic Sampling Approach for Imbalanced\n",
    "Learning (ADASYN)\n",
    "\n",
    "http://www.ele.uri.edu/faculty/he/PDFfiles/adasyn.pdf\n",
    "https://imbalanced-learn.readthedocs.io/en/stable/generated/imblearn.over_sampling.ADASYN.html#rf9172e970ca5-1"
   ]
  },
  {
   "cell_type": "code",
   "execution_count": 35,
   "metadata": {},
   "outputs": [
    {
     "name": "stdout",
     "output_type": "stream",
     "text": [
      "Resampled dataset shape Counter({0: 96811, 1: 96202})\n",
      "\n",
      "Logistic Regression :\n",
      "F1 Score:  0.6932659751706347\n",
      "Accurancy:  0.6550210950061048\n",
      "FBeta Score:  0.6282707354578471\n",
      "\n",
      "Decision Tree :\n",
      "F1 Score:  0.9889052810862029\n",
      "Accurancy:  0.988817833440118\n",
      "FBeta Score:  0.9870833084406563\n",
      "\n",
      "RandomForest :\n",
      "F1 Score:  0.9954879618823019\n",
      "Accurancy:  0.9954666892324803\n",
      "FBeta Score:  0.99672225630906\n",
      "\n",
      "SVM :\n",
      "F1 Score:  0.6951652354931043\n",
      "Accurancy:  0.6459544734710654\n",
      "FBeta Score:  0.6145416765968674\n"
     ]
    }
   ],
   "source": [
    "from collections import Counter\n",
    "from imblearn.over_sampling import ADASYN \n",
    "ada = ADASYN(random_state=42)\n",
    "X_ada, y_ada = ada.fit_resample(X, y)\n",
    "X_train, X_test, y_train, y_test = train_test_split(X_ada, y_ada, test_size=0.30, random_state=42)\n",
    "print('Resampled dataset shape %s' % Counter(y_train))\n",
    "for key, value  in models.items():\n",
    "    value.fit(X_train, y_train.ravel())\n",
    "    y_pred = value.predict(X_test)\n",
    "    print()\n",
    "    print(key,':')\n",
    "    print('F1 Score: ', f1_score(y_pred, y_test))\n",
    "    print('Accurancy: ', accuracy_score(y_pred, y_test))\n",
    "    print('FBeta Score: ', fbeta_score(y_pred, y_test, beta=10))"
   ]
  },
  {
   "cell_type": "markdown",
   "metadata": {},
   "source": [
    "# Exercise 15.6 (3 points)\n",
    "\n",
    "Compare and comment about the results"
   ]
  },
  {
   "cell_type": "markdown",
   "metadata": {},
   "source": [
    "Utilizando UnderSampling se puede encontrar resultados interesantes en comparación a las demás formas de tratar el desbalanceo, aún y utilizando la libreria imblearn versus las funciones manuales vistas en clase, es evidente que los resultados no dan similares a la técnica mencionada al principio.\n",
    "\n",
    "Sin embargo, asumiendo que las funciones en imblearn están haciendo bien la tarea de balancear las clases, se encuentra que la regresión logística tiende a tener unos resultados un poco más acordes a lo que uno esperaría ver (F1 scores y FBetas similares y mayores a .5) con un acc que se encuentra entre el .63 y el .68 en general. \n",
    "\n",
    "La conclusión que más tiene sentido para mi es la que se encuentra utilizando el método de UnderSampling en donde RandomForest logra tener buenos resultados en comparación a los otros modelos comparados. "
   ]
  }
 ],
 "metadata": {
  "kernelspec": {
   "display_name": "Python 3",
   "language": "python",
   "name": "python3"
  },
  "language_info": {
   "codemirror_mode": {
    "name": "ipython",
    "version": 3
   },
   "file_extension": ".py",
   "mimetype": "text/x-python",
   "name": "python",
   "nbconvert_exporter": "python",
   "pygments_lexer": "ipython3",
   "version": "3.7.1"
  }
 },
 "nbformat": 4,
 "nbformat_minor": 1
}
