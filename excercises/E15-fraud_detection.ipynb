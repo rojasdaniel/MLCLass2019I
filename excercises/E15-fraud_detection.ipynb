{
 "cells": [
  {
   "cell_type": "markdown",
   "metadata": {},
   "source": [
    "# Exercise 15\n",
    "\n",
    "# Fraud Detection"
   ]
  },
  {
   "cell_type": "markdown",
   "metadata": {},
   "source": [
    "## Introduction\n",
    "\n",
    "- Fraud Detection Dataset from Microsoft Azure: [data](http://gallery.cortanaintelligence.com/Experiment/8e9fe4e03b8b4c65b9ca947c72b8e463)\n",
    "\n",
    "Fraud detection is one of the earliest industrial applications of data mining and machine learning. Fraud detection is typically handled as a binary classification problem, but the class population is unbalanced because instances of fraud are usually very rare compared to the overall volume of transactions. Moreover, when fraudulent transactions are discovered, the business typically takes measures to block the accounts from transacting to prevent further losses. "
   ]
  },
  {
   "cell_type": "code",
   "execution_count": 1,
   "metadata": {},
   "outputs": [],
   "source": [
    "%matplotlib inline\n",
    "import pandas as pd\n",
    "import numpy as np\n",
    "from sklearn.model_selection import cross_val_score\n",
    "from sklearn.linear_model import LogisticRegression\n",
    "from sklearn.tree import DecisionTreeClassifier\n",
    "from sklearn import metrics"
   ]
  },
  {
   "cell_type": "code",
   "execution_count": 2,
   "metadata": {},
   "outputs": [],
   "source": [
    "import pandas as pd\n",
    "\n",
    "url = 'https://raw.githubusercontent.com/albahnsen/PracticalMachineLearningClass/master/datasets/15_fraud_detection.csv.zip'\n",
    "df = pd.read_csv(url, index_col=0)"
   ]
  },
  {
   "cell_type": "code",
   "execution_count": 3,
   "metadata": {},
   "outputs": [
    {
     "data": {
      "text/html": [
       "<div>\n",
       "<style scoped>\n",
       "    .dataframe tbody tr th:only-of-type {\n",
       "        vertical-align: middle;\n",
       "    }\n",
       "\n",
       "    .dataframe tbody tr th {\n",
       "        vertical-align: top;\n",
       "    }\n",
       "\n",
       "    .dataframe thead th {\n",
       "        text-align: right;\n",
       "    }\n",
       "</style>\n",
       "<table border=\"1\" class=\"dataframe\">\n",
       "  <thead>\n",
       "    <tr style=\"text-align: right;\">\n",
       "      <th></th>\n",
       "      <th>accountAge</th>\n",
       "      <th>digitalItemCount</th>\n",
       "      <th>sumPurchaseCount1Day</th>\n",
       "      <th>sumPurchaseAmount1Day</th>\n",
       "      <th>sumPurchaseAmount30Day</th>\n",
       "      <th>paymentBillingPostalCode - LogOddsForClass_0</th>\n",
       "      <th>accountPostalCode - LogOddsForClass_0</th>\n",
       "      <th>paymentBillingState - LogOddsForClass_0</th>\n",
       "      <th>accountState - LogOddsForClass_0</th>\n",
       "      <th>paymentInstrumentAgeInAccount</th>\n",
       "      <th>ipState - LogOddsForClass_0</th>\n",
       "      <th>transactionAmount</th>\n",
       "      <th>transactionAmountUSD</th>\n",
       "      <th>ipPostalCode - LogOddsForClass_0</th>\n",
       "      <th>localHour - LogOddsForClass_0</th>\n",
       "      <th>Label</th>\n",
       "    </tr>\n",
       "  </thead>\n",
       "  <tbody>\n",
       "    <tr>\n",
       "      <th>0</th>\n",
       "      <td>2000</td>\n",
       "      <td>0</td>\n",
       "      <td>0</td>\n",
       "      <td>0.00</td>\n",
       "      <td>720.25</td>\n",
       "      <td>5.064533</td>\n",
       "      <td>0.421214</td>\n",
       "      <td>1.312186</td>\n",
       "      <td>0.566395</td>\n",
       "      <td>3279.574306</td>\n",
       "      <td>1.218157</td>\n",
       "      <td>599.00</td>\n",
       "      <td>626.164650</td>\n",
       "      <td>1.259543</td>\n",
       "      <td>4.745402</td>\n",
       "      <td>0</td>\n",
       "    </tr>\n",
       "    <tr>\n",
       "      <th>1</th>\n",
       "      <td>62</td>\n",
       "      <td>1</td>\n",
       "      <td>1</td>\n",
       "      <td>1185.44</td>\n",
       "      <td>2530.37</td>\n",
       "      <td>0.538996</td>\n",
       "      <td>0.481838</td>\n",
       "      <td>4.401370</td>\n",
       "      <td>4.500157</td>\n",
       "      <td>61.970139</td>\n",
       "      <td>4.035601</td>\n",
       "      <td>1185.44</td>\n",
       "      <td>1185.440000</td>\n",
       "      <td>3.981118</td>\n",
       "      <td>4.921349</td>\n",
       "      <td>0</td>\n",
       "    </tr>\n",
       "    <tr>\n",
       "      <th>2</th>\n",
       "      <td>2000</td>\n",
       "      <td>0</td>\n",
       "      <td>0</td>\n",
       "      <td>0.00</td>\n",
       "      <td>0.00</td>\n",
       "      <td>5.064533</td>\n",
       "      <td>5.096396</td>\n",
       "      <td>3.056357</td>\n",
       "      <td>3.155226</td>\n",
       "      <td>0.000000</td>\n",
       "      <td>3.314186</td>\n",
       "      <td>32.09</td>\n",
       "      <td>32.090000</td>\n",
       "      <td>5.008490</td>\n",
       "      <td>4.742303</td>\n",
       "      <td>0</td>\n",
       "    </tr>\n",
       "    <tr>\n",
       "      <th>3</th>\n",
       "      <td>1</td>\n",
       "      <td>1</td>\n",
       "      <td>0</td>\n",
       "      <td>0.00</td>\n",
       "      <td>0.00</td>\n",
       "      <td>5.064533</td>\n",
       "      <td>5.096396</td>\n",
       "      <td>3.331154</td>\n",
       "      <td>3.331239</td>\n",
       "      <td>0.000000</td>\n",
       "      <td>3.529398</td>\n",
       "      <td>133.28</td>\n",
       "      <td>132.729554</td>\n",
       "      <td>1.324925</td>\n",
       "      <td>4.745402</td>\n",
       "      <td>0</td>\n",
       "    </tr>\n",
       "    <tr>\n",
       "      <th>4</th>\n",
       "      <td>1</td>\n",
       "      <td>1</td>\n",
       "      <td>0</td>\n",
       "      <td>0.00</td>\n",
       "      <td>132.73</td>\n",
       "      <td>5.412885</td>\n",
       "      <td>0.342945</td>\n",
       "      <td>5.563677</td>\n",
       "      <td>4.086965</td>\n",
       "      <td>0.001389</td>\n",
       "      <td>3.529398</td>\n",
       "      <td>543.66</td>\n",
       "      <td>543.660000</td>\n",
       "      <td>2.693451</td>\n",
       "      <td>4.876771</td>\n",
       "      <td>0</td>\n",
       "    </tr>\n",
       "  </tbody>\n",
       "</table>\n",
       "</div>"
      ],
      "text/plain": [
       "   accountAge  digitalItemCount  sumPurchaseCount1Day  sumPurchaseAmount1Day  \\\n",
       "0        2000                 0                     0                   0.00   \n",
       "1          62                 1                     1                1185.44   \n",
       "2        2000                 0                     0                   0.00   \n",
       "3           1                 1                     0                   0.00   \n",
       "4           1                 1                     0                   0.00   \n",
       "\n",
       "   sumPurchaseAmount30Day  paymentBillingPostalCode - LogOddsForClass_0  \\\n",
       "0                  720.25                                      5.064533   \n",
       "1                 2530.37                                      0.538996   \n",
       "2                    0.00                                      5.064533   \n",
       "3                    0.00                                      5.064533   \n",
       "4                  132.73                                      5.412885   \n",
       "\n",
       "   accountPostalCode - LogOddsForClass_0  \\\n",
       "0                               0.421214   \n",
       "1                               0.481838   \n",
       "2                               5.096396   \n",
       "3                               5.096396   \n",
       "4                               0.342945   \n",
       "\n",
       "   paymentBillingState - LogOddsForClass_0  accountState - LogOddsForClass_0  \\\n",
       "0                                 1.312186                          0.566395   \n",
       "1                                 4.401370                          4.500157   \n",
       "2                                 3.056357                          3.155226   \n",
       "3                                 3.331154                          3.331239   \n",
       "4                                 5.563677                          4.086965   \n",
       "\n",
       "   paymentInstrumentAgeInAccount  ipState - LogOddsForClass_0  \\\n",
       "0                    3279.574306                     1.218157   \n",
       "1                      61.970139                     4.035601   \n",
       "2                       0.000000                     3.314186   \n",
       "3                       0.000000                     3.529398   \n",
       "4                       0.001389                     3.529398   \n",
       "\n",
       "   transactionAmount  transactionAmountUSD  ipPostalCode - LogOddsForClass_0  \\\n",
       "0             599.00            626.164650                          1.259543   \n",
       "1            1185.44           1185.440000                          3.981118   \n",
       "2              32.09             32.090000                          5.008490   \n",
       "3             133.28            132.729554                          1.324925   \n",
       "4             543.66            543.660000                          2.693451   \n",
       "\n",
       "   localHour - LogOddsForClass_0  Label  \n",
       "0                       4.745402      0  \n",
       "1                       4.921349      0  \n",
       "2                       4.742303      0  \n",
       "3                       4.745402      0  \n",
       "4                       4.876771      0  "
      ]
     },
     "execution_count": 3,
     "metadata": {},
     "output_type": "execute_result"
    }
   ],
   "source": [
    "df.head()"
   ]
  },
  {
   "cell_type": "code",
   "execution_count": 4,
   "metadata": {},
   "outputs": [
    {
     "data": {
      "text/plain": [
       "((138721, 16), 797, 0.0057453449730033666)"
      ]
     },
     "execution_count": 4,
     "metadata": {},
     "output_type": "execute_result"
    }
   ],
   "source": [
    "df.shape, df.Label.sum(), df.Label.mean()"
   ]
  },
  {
   "cell_type": "code",
   "execution_count": 5,
   "metadata": {},
   "outputs": [
    {
     "data": {
      "text/plain": [
       "accountAge                                      0\n",
       "digitalItemCount                                0\n",
       "sumPurchaseCount1Day                            0\n",
       "sumPurchaseAmount1Day                           0\n",
       "sumPurchaseAmount30Day                          0\n",
       "paymentBillingPostalCode - LogOddsForClass_0    0\n",
       "accountPostalCode - LogOddsForClass_0           0\n",
       "paymentBillingState - LogOddsForClass_0         0\n",
       "accountState - LogOddsForClass_0                0\n",
       "paymentInstrumentAgeInAccount                   0\n",
       "ipState - LogOddsForClass_0                     0\n",
       "transactionAmount                               0\n",
       "transactionAmountUSD                            0\n",
       "ipPostalCode - LogOddsForClass_0                0\n",
       "localHour - LogOddsForClass_0                   0\n",
       "Label                                           0\n",
       "dtype: int64"
      ]
     },
     "execution_count": 5,
     "metadata": {},
     "output_type": "execute_result"
    }
   ],
   "source": [
    "df.isnull().sum()"
   ]
  },
  {
   "cell_type": "markdown",
   "metadata": {},
   "source": [
    "# Exercise 15.1\n",
    "\n",
    "Estimate a Logistic Regression and a Decision Tree\n",
    "\n",
    "Evaluate using the following metrics:\n",
    "* Accuracy\n",
    "* F1-Score\n",
    "* F_Beta-Score (Beta=10)\n",
    "\n",
    "Comment about the results"
   ]
  },
  {
   "cell_type": "code",
   "execution_count": 6,
   "metadata": {},
   "outputs": [],
   "source": [
    "from sklearn.model_selection import train_test_split\n",
    "X = df\n",
    "y = df.Label\n",
    "X = X.drop(['Label'], axis=1)\n",
    "feature_cols = list(X.columns)\n",
    "X_train, X_test, y_train, y_test = train_test_split(X, y, test_size=0.30, random_state=42)"
   ]
  },
  {
   "cell_type": "code",
   "execution_count": 7,
   "metadata": {},
   "outputs": [],
   "source": [
    "from sklearn.tree import DecisionTreeClassifier\n",
    "from sklearn.linear_model import LogisticRegression\n",
    "from sklearn.ensemble import RandomForestClassifier\n",
    "from sklearn.svm import LinearSVC\n",
    "import numpy as np\n",
    "import warnings\n",
    "warnings.filterwarnings('ignore')\n",
    "models = {'Logistic Regression': LogisticRegression(),\n",
    "          'Decision Tree': DecisionTreeClassifier(),\n",
    "          'RandomForest': RandomForestClassifier(),\n",
    "          'SVM': LinearSVC(dual=False)}\n",
    "y_pred = pd.DataFrame (columns =models.keys(),index= y_test.index )\n",
    "for i, model  in models.items():\n",
    "    model.fit(X_train, y_train)\n",
    "    y_pred[i] = model.predict(X_test)"
   ]
  },
  {
   "cell_type": "code",
   "execution_count": 8,
   "metadata": {},
   "outputs": [
    {
     "name": "stdout",
     "output_type": "stream",
     "text": [
      "\n",
      "Logistic Regression :\n",
      "F1 Score:  0.0\n",
      "Accurancy:  0.994112982675349\n",
      "FBeta Score:  0.0\n",
      "\n",
      "Decision Tree :\n",
      "F1 Score:  0.12662942271880817\n",
      "Accurancy:  0.9887305668356681\n",
      "FBeta Score:  0.11662421463745967\n",
      "\n",
      "RandomForest :\n",
      "F1 Score:  0.127208480565371\n",
      "Accurancy:  0.9940649253910662\n",
      "FBeta Score:  0.4494437577255871\n",
      "\n",
      "SVM :\n",
      "F1 Score:  0.0\n",
      "Accurancy:  0.994112982675349\n",
      "FBeta Score:  0.0\n"
     ]
    }
   ],
   "source": [
    "from sklearn.metrics import f1_score\n",
    "from sklearn.metrics import fbeta_score\n",
    "from sklearn.metrics import accuracy_score\n",
    "for model in models.keys():\n",
    "    print()\n",
    "    print(model,':')\n",
    "    print('F1 Score: ', f1_score(y_pred[model], y_test))\n",
    "    print('Accurancy: ', accuracy_score(y_pred[model], y_test))\n",
    "    print('FBeta Score: ', fbeta_score(y_pred[model], y_test, beta=10))\n"
   ]
  },
  {
   "cell_type": "markdown",
   "metadata": {},
   "source": [
    "# Exercise 15.2\n",
    "\n",
    "Under-sample the negative class using random-under-sampling\n",
    "\n",
    "Which is parameter for target_percentage did you choose?\n",
    "How the results change?\n",
    "\n",
    "**Only apply under-sampling to the training set, evaluate using the whole test set**"
   ]
  },
  {
   "cell_type": "code",
   "execution_count": 9,
   "metadata": {},
   "outputs": [
    {
     "name": "stdout",
     "output_type": "stream",
     "text": [
      "Total de obs:  138721\n",
      "Total de obs con 0:  137924\n",
      "Total de obs con 1:  797\n"
     ]
    }
   ],
   "source": [
    "n_samples = y.shape[0]\n",
    "n_samples_0 = (y == 0).sum()\n",
    "n_samples_1 = (y == 1).sum()\n",
    "print('Total de obs: ', n_samples)\n",
    "print('Total de obs con 0: ',n_samples_0)\n",
    "print('Total de obs con 1: ', n_samples_1)"
   ]
  },
  {
   "cell_type": "code",
   "execution_count": 10,
   "metadata": {
    "scrolled": true
   },
   "outputs": [
    {
     "name": "stdout",
     "output_type": "stream",
     "text": [
      "Porcentaje de obs con 1 del total de obs:  0.57 %\n"
     ]
    }
   ],
   "source": [
    "print('Porcentaje de obs con 1 del total de obs: ', round((n_samples_1 / n_samples)*100, 2),'%')"
   ]
  },
  {
   "cell_type": "code",
   "execution_count": 11,
   "metadata": {},
   "outputs": [],
   "source": [
    "def UnderSampling(X, y, target_percentage=0.5, seed=None):\n",
    "    # Assuming minority class is the positive\n",
    "    n_samples = y.shape[0]\n",
    "    n_samples_0 = (y == 0).sum()\n",
    "    n_samples_1 = (y == 1).sum()\n",
    "\n",
    "    n_samples_0_new =  n_samples_1 / target_percentage - n_samples_1\n",
    "    n_samples_0_new_per = n_samples_0_new / n_samples_0\n",
    "\n",
    "    filter_ = y == 0\n",
    "\n",
    "    np.random.seed(seed)\n",
    "    rand_1 = np.random.binomial(n=1, p=n_samples_0_new_per, size=n_samples)\n",
    "    \n",
    "    filter_ = filter_ & rand_1\n",
    "    filter_ = filter_ | (y == 1)\n",
    "    filter_ = filter_.astype(bool)\n",
    "    \n",
    "    return X[filter_], y[filter_]"
   ]
  },
  {
   "cell_type": "code",
   "execution_count": 12,
   "metadata": {},
   "outputs": [],
   "source": [
    "ac_s = []\n",
    "ypreds = {}\n",
    "for target_percentage in [0.1, 0.2, 0.3, 0.4, 0.5, 0.6, 0.7, 0.8, 0.9]:\n",
    "    X_train, X_test, y_train, y_test = train_test_split(X, y, test_size=0.30, random_state=42)\n",
    "    X_train, y_train = UnderSampling(X_train, y_train, target_percentage, 1)\n",
    "    y_pred_new = pd.DataFrame (columns =models.keys(),index= y_test.index )\n",
    "    for i, model  in models.items():\n",
    "        model.fit(X_train, y_train)\n",
    "        y_pred_new[i] = model.predict(X_test) \n",
    "    for model in models.keys():\n",
    "        ac_s.append([model, target_percentage, accuracy_score(y_pred_new[model], y_test), f1_score(y_pred_new[model], y_test), fbeta_score(y_pred_new[model], y_test, beta=10)])\n",
    "ac_s = pd.DataFrame(ac_s, columns=['Model', 'target_percentage', 'Acc', 'F1 Score', 'FBeta Score'])"
   ]
  },
  {
   "cell_type": "code",
   "execution_count": 13,
   "metadata": {
    "scrolled": false
   },
   "outputs": [
    {
     "data": {
      "text/html": [
       "<div>\n",
       "<style scoped>\n",
       "    .dataframe tbody tr th:only-of-type {\n",
       "        vertical-align: middle;\n",
       "    }\n",
       "\n",
       "    .dataframe tbody tr th {\n",
       "        vertical-align: top;\n",
       "    }\n",
       "\n",
       "    .dataframe thead th {\n",
       "        text-align: right;\n",
       "    }\n",
       "</style>\n",
       "<table border=\"1\" class=\"dataframe\">\n",
       "  <thead>\n",
       "    <tr style=\"text-align: right;\">\n",
       "      <th></th>\n",
       "      <th>Model</th>\n",
       "      <th>target_percentage</th>\n",
       "      <th>Acc</th>\n",
       "      <th>F1 Score</th>\n",
       "      <th>FBeta Score</th>\n",
       "    </tr>\n",
       "  </thead>\n",
       "  <tbody>\n",
       "    <tr>\n",
       "      <th>0</th>\n",
       "      <td>Logistic Regression</td>\n",
       "      <td>0.1</td>\n",
       "      <td>0.991422</td>\n",
       "      <td>0.011080</td>\n",
       "      <td>0.017054</td>\n",
       "    </tr>\n",
       "    <tr>\n",
       "      <th>1</th>\n",
       "      <td>Decision Tree</td>\n",
       "      <td>0.1</td>\n",
       "      <td>0.919913</td>\n",
       "      <td>0.052856</td>\n",
       "      <td>0.028668</td>\n",
       "    </tr>\n",
       "    <tr>\n",
       "      <th>2</th>\n",
       "      <td>RandomForest</td>\n",
       "      <td>0.1</td>\n",
       "      <td>0.982771</td>\n",
       "      <td>0.153483</td>\n",
       "      <td>0.108611</td>\n",
       "    </tr>\n",
       "    <tr>\n",
       "      <th>3</th>\n",
       "      <td>SVM</td>\n",
       "      <td>0.1</td>\n",
       "      <td>0.992215</td>\n",
       "      <td>0.000000</td>\n",
       "      <td>0.000000</td>\n",
       "    </tr>\n",
       "    <tr>\n",
       "      <th>4</th>\n",
       "      <td>Logistic Regression</td>\n",
       "      <td>0.2</td>\n",
       "      <td>0.977942</td>\n",
       "      <td>0.043750</td>\n",
       "      <td>0.029563</td>\n",
       "    </tr>\n",
       "    <tr>\n",
       "      <th>5</th>\n",
       "      <td>Decision Tree</td>\n",
       "      <td>0.2</td>\n",
       "      <td>0.861715</td>\n",
       "      <td>0.042270</td>\n",
       "      <td>0.022244</td>\n",
       "    </tr>\n",
       "    <tr>\n",
       "      <th>6</th>\n",
       "      <td>RandomForest</td>\n",
       "      <td>0.2</td>\n",
       "      <td>0.959440</td>\n",
       "      <td>0.096360</td>\n",
       "      <td>0.055923</td>\n",
       "    </tr>\n",
       "    <tr>\n",
       "      <th>7</th>\n",
       "      <td>SVM</td>\n",
       "      <td>0.2</td>\n",
       "      <td>0.981113</td>\n",
       "      <td>0.039120</td>\n",
       "      <td>0.028082</td>\n",
       "    </tr>\n",
       "    <tr>\n",
       "      <th>8</th>\n",
       "      <td>Logistic Regression</td>\n",
       "      <td>0.3</td>\n",
       "      <td>0.950117</td>\n",
       "      <td>0.041551</td>\n",
       "      <td>0.023629</td>\n",
       "    </tr>\n",
       "    <tr>\n",
       "      <th>9</th>\n",
       "      <td>Decision Tree</td>\n",
       "      <td>0.3</td>\n",
       "      <td>0.786962</td>\n",
       "      <td>0.032730</td>\n",
       "      <td>0.016978</td>\n",
       "    </tr>\n",
       "    <tr>\n",
       "      <th>10</th>\n",
       "      <td>RandomForest</td>\n",
       "      <td>0.3</td>\n",
       "      <td>0.901410</td>\n",
       "      <td>0.061313</td>\n",
       "      <td>0.032782</td>\n",
       "    </tr>\n",
       "    <tr>\n",
       "      <th>11</th>\n",
       "      <td>SVM</td>\n",
       "      <td>0.3</td>\n",
       "      <td>0.953529</td>\n",
       "      <td>0.040675</td>\n",
       "      <td>0.023350</td>\n",
       "    </tr>\n",
       "    <tr>\n",
       "      <th>12</th>\n",
       "      <td>Logistic Regression</td>\n",
       "      <td>0.4</td>\n",
       "      <td>0.881563</td>\n",
       "      <td>0.036740</td>\n",
       "      <td>0.019477</td>\n",
       "    </tr>\n",
       "    <tr>\n",
       "      <th>13</th>\n",
       "      <td>Decision Tree</td>\n",
       "      <td>0.4</td>\n",
       "      <td>0.721436</td>\n",
       "      <td>0.024569</td>\n",
       "      <td>0.012666</td>\n",
       "    </tr>\n",
       "    <tr>\n",
       "      <th>14</th>\n",
       "      <td>RandomForest</td>\n",
       "      <td>0.4</td>\n",
       "      <td>0.845592</td>\n",
       "      <td>0.041182</td>\n",
       "      <td>0.021578</td>\n",
       "    </tr>\n",
       "    <tr>\n",
       "      <th>15</th>\n",
       "      <td>SVM</td>\n",
       "      <td>0.4</td>\n",
       "      <td>0.895716</td>\n",
       "      <td>0.038121</td>\n",
       "      <td>0.020345</td>\n",
       "    </tr>\n",
       "    <tr>\n",
       "      <th>16</th>\n",
       "      <td>Logistic Regression</td>\n",
       "      <td>0.5</td>\n",
       "      <td>0.544177</td>\n",
       "      <td>0.019334</td>\n",
       "      <td>0.009888</td>\n",
       "    </tr>\n",
       "    <tr>\n",
       "      <th>17</th>\n",
       "      <td>Decision Tree</td>\n",
       "      <td>0.5</td>\n",
       "      <td>0.649134</td>\n",
       "      <td>0.021838</td>\n",
       "      <td>0.011210</td>\n",
       "    </tr>\n",
       "    <tr>\n",
       "      <th>18</th>\n",
       "      <td>RandomForest</td>\n",
       "      <td>0.5</td>\n",
       "      <td>0.770358</td>\n",
       "      <td>0.032594</td>\n",
       "      <td>0.016874</td>\n",
       "    </tr>\n",
       "    <tr>\n",
       "      <th>19</th>\n",
       "      <td>SVM</td>\n",
       "      <td>0.5</td>\n",
       "      <td>0.540789</td>\n",
       "      <td>0.019396</td>\n",
       "      <td>0.009918</td>\n",
       "    </tr>\n",
       "    <tr>\n",
       "      <th>20</th>\n",
       "      <td>Logistic Regression</td>\n",
       "      <td>0.6</td>\n",
       "      <td>0.398034</td>\n",
       "      <td>0.017414</td>\n",
       "      <td>0.008879</td>\n",
       "    </tr>\n",
       "    <tr>\n",
       "      <th>21</th>\n",
       "      <td>Decision Tree</td>\n",
       "      <td>0.6</td>\n",
       "      <td>0.615542</td>\n",
       "      <td>0.021526</td>\n",
       "      <td>0.011035</td>\n",
       "    </tr>\n",
       "    <tr>\n",
       "      <th>22</th>\n",
       "      <td>RandomForest</td>\n",
       "      <td>0.6</td>\n",
       "      <td>0.673955</td>\n",
       "      <td>0.026544</td>\n",
       "      <td>0.013642</td>\n",
       "    </tr>\n",
       "    <tr>\n",
       "      <th>23</th>\n",
       "      <td>SVM</td>\n",
       "      <td>0.6</td>\n",
       "      <td>0.335440</td>\n",
       "      <td>0.016430</td>\n",
       "      <td>0.008369</td>\n",
       "    </tr>\n",
       "    <tr>\n",
       "      <th>24</th>\n",
       "      <td>Logistic Regression</td>\n",
       "      <td>0.7</td>\n",
       "      <td>0.274407</td>\n",
       "      <td>0.015262</td>\n",
       "      <td>0.007769</td>\n",
       "    </tr>\n",
       "    <tr>\n",
       "      <th>25</th>\n",
       "      <td>Decision Tree</td>\n",
       "      <td>0.7</td>\n",
       "      <td>0.504890</td>\n",
       "      <td>0.018015</td>\n",
       "      <td>0.009204</td>\n",
       "    </tr>\n",
       "    <tr>\n",
       "      <th>26</th>\n",
       "      <td>RandomForest</td>\n",
       "      <td>0.7</td>\n",
       "      <td>0.557705</td>\n",
       "      <td>0.021373</td>\n",
       "      <td>0.010934</td>\n",
       "    </tr>\n",
       "    <tr>\n",
       "      <th>27</th>\n",
       "      <td>SVM</td>\n",
       "      <td>0.7</td>\n",
       "      <td>0.268977</td>\n",
       "      <td>0.015278</td>\n",
       "      <td>0.007776</td>\n",
       "    </tr>\n",
       "    <tr>\n",
       "      <th>28</th>\n",
       "      <td>Logistic Regression</td>\n",
       "      <td>0.8</td>\n",
       "      <td>0.128337</td>\n",
       "      <td>0.013113</td>\n",
       "      <td>0.006666</td>\n",
       "    </tr>\n",
       "    <tr>\n",
       "      <th>29</th>\n",
       "      <td>Decision Tree</td>\n",
       "      <td>0.8</td>\n",
       "      <td>0.391667</td>\n",
       "      <td>0.015248</td>\n",
       "      <td>0.007773</td>\n",
       "    </tr>\n",
       "    <tr>\n",
       "      <th>30</th>\n",
       "      <td>RandomForest</td>\n",
       "      <td>0.8</td>\n",
       "      <td>0.351707</td>\n",
       "      <td>0.016262</td>\n",
       "      <td>0.008286</td>\n",
       "    </tr>\n",
       "    <tr>\n",
       "      <th>31</th>\n",
       "      <td>SVM</td>\n",
       "      <td>0.8</td>\n",
       "      <td>0.119687</td>\n",
       "      <td>0.013039</td>\n",
       "      <td>0.006628</td>\n",
       "    </tr>\n",
       "    <tr>\n",
       "      <th>32</th>\n",
       "      <td>Logistic Regression</td>\n",
       "      <td>0.9</td>\n",
       "      <td>0.024870</td>\n",
       "      <td>0.011930</td>\n",
       "      <td>0.006061</td>\n",
       "    </tr>\n",
       "    <tr>\n",
       "      <th>33</th>\n",
       "      <td>Decision Tree</td>\n",
       "      <td>0.9</td>\n",
       "      <td>0.233991</td>\n",
       "      <td>0.014102</td>\n",
       "      <td>0.007176</td>\n",
       "    </tr>\n",
       "    <tr>\n",
       "      <th>34</th>\n",
       "      <td>RandomForest</td>\n",
       "      <td>0.9</td>\n",
       "      <td>0.119879</td>\n",
       "      <td>0.012829</td>\n",
       "      <td>0.006521</td>\n",
       "    </tr>\n",
       "    <tr>\n",
       "      <th>35</th>\n",
       "      <td>SVM</td>\n",
       "      <td>0.9</td>\n",
       "      <td>0.015066</td>\n",
       "      <td>0.011813</td>\n",
       "      <td>0.006001</td>\n",
       "    </tr>\n",
       "  </tbody>\n",
       "</table>\n",
       "</div>"
      ],
      "text/plain": [
       "                  Model  target_percentage       Acc  F1 Score  FBeta Score\n",
       "0   Logistic Regression                0.1  0.991422  0.011080     0.017054\n",
       "1         Decision Tree                0.1  0.919913  0.052856     0.028668\n",
       "2          RandomForest                0.1  0.982771  0.153483     0.108611\n",
       "3                   SVM                0.1  0.992215  0.000000     0.000000\n",
       "4   Logistic Regression                0.2  0.977942  0.043750     0.029563\n",
       "5         Decision Tree                0.2  0.861715  0.042270     0.022244\n",
       "6          RandomForest                0.2  0.959440  0.096360     0.055923\n",
       "7                   SVM                0.2  0.981113  0.039120     0.028082\n",
       "8   Logistic Regression                0.3  0.950117  0.041551     0.023629\n",
       "9         Decision Tree                0.3  0.786962  0.032730     0.016978\n",
       "10         RandomForest                0.3  0.901410  0.061313     0.032782\n",
       "11                  SVM                0.3  0.953529  0.040675     0.023350\n",
       "12  Logistic Regression                0.4  0.881563  0.036740     0.019477\n",
       "13        Decision Tree                0.4  0.721436  0.024569     0.012666\n",
       "14         RandomForest                0.4  0.845592  0.041182     0.021578\n",
       "15                  SVM                0.4  0.895716  0.038121     0.020345\n",
       "16  Logistic Regression                0.5  0.544177  0.019334     0.009888\n",
       "17        Decision Tree                0.5  0.649134  0.021838     0.011210\n",
       "18         RandomForest                0.5  0.770358  0.032594     0.016874\n",
       "19                  SVM                0.5  0.540789  0.019396     0.009918\n",
       "20  Logistic Regression                0.6  0.398034  0.017414     0.008879\n",
       "21        Decision Tree                0.6  0.615542  0.021526     0.011035\n",
       "22         RandomForest                0.6  0.673955  0.026544     0.013642\n",
       "23                  SVM                0.6  0.335440  0.016430     0.008369\n",
       "24  Logistic Regression                0.7  0.274407  0.015262     0.007769\n",
       "25        Decision Tree                0.7  0.504890  0.018015     0.009204\n",
       "26         RandomForest                0.7  0.557705  0.021373     0.010934\n",
       "27                  SVM                0.7  0.268977  0.015278     0.007776\n",
       "28  Logistic Regression                0.8  0.128337  0.013113     0.006666\n",
       "29        Decision Tree                0.8  0.391667  0.015248     0.007773\n",
       "30         RandomForest                0.8  0.351707  0.016262     0.008286\n",
       "31                  SVM                0.8  0.119687  0.013039     0.006628\n",
       "32  Logistic Regression                0.9  0.024870  0.011930     0.006061\n",
       "33        Decision Tree                0.9  0.233991  0.014102     0.007176\n",
       "34         RandomForest                0.9  0.119879  0.012829     0.006521\n",
       "35                  SVM                0.9  0.015066  0.011813     0.006001"
      ]
     },
     "execution_count": 13,
     "metadata": {},
     "output_type": "execute_result"
    }
   ],
   "source": [
    "ac_s"
   ]
  },
  {
   "cell_type": "code",
   "execution_count": 14,
   "metadata": {},
   "outputs": [
    {
     "data": {
      "text/plain": [
       "<matplotlib.axes._subplots.AxesSubplot at 0x277a72037f0>"
      ]
     },
     "execution_count": 14,
     "metadata": {},
     "output_type": "execute_result"
    },
    {
     "data": {
      "image/png": "[encoded data removed]",
      "text/plain": [
       "<Figure size 432x288 with 1 Axes>"
      ]
     },
     "metadata": {
      "needs_background": "light"
     },
     "output_type": "display_data"
    }
   ],
   "source": [
    "import seaborn as sns\n",
    "sns.lineplot(x=\"target_percentage\", y=\"Acc\", hue=\"Model\", data=ac_s)"
   ]
  },
  {
   "cell_type": "code",
   "execution_count": 15,
   "metadata": {},
   "outputs": [
    {
     "data": {
      "text/plain": [
       "<matplotlib.axes._subplots.AxesSubplot at 0x277a5ee3d30>"
      ]
     },
     "execution_count": 15,
     "metadata": {},
     "output_type": "execute_result"
    },
    {
     "data": {
      "image/png": "[encoded data removed]",
      "text/plain": [
       "<Figure size 432x288 with 1 Axes>"
      ]
     },
     "metadata": {
      "needs_background": "light"
     },
     "output_type": "display_data"
    }
   ],
   "source": [
    "sns.lineplot(x=\"target_percentage\", y=\"F1 Score\", hue=\"Model\", data=ac_s)"
   ]
  },
  {
   "cell_type": "code",
   "execution_count": 16,
   "metadata": {
    "scrolled": true
   },
   "outputs": [
    {
     "data": {
      "text/plain": [
       "<matplotlib.axes._subplots.AxesSubplot at 0x277a6ed2630>"
      ]
     },
     "execution_count": 16,
     "metadata": {},
     "output_type": "execute_result"
    },
    {
     "data": {
      "image/png": "[encoded data removed]",
      "text/plain": [
       "<Figure size 432x288 with 1 Axes>"
      ]
     },
     "metadata": {
      "needs_background": "light"
     },
     "output_type": "display_data"
    }
   ],
   "source": [
    "sns.lineplot(x=\"target_percentage\", y=\"FBeta Score\", hue=\"Model\", data=ac_s)"
   ]
  },
  {
   "cell_type": "markdown",
   "metadata": {},
   "source": [
    "Se puede observar en los resultados que en la gráfica del FBeta Score el modelo más estable (definido por el que tiene una pendiente menos empinada) es RandomForest, siendo este un modelo que con un target_percentage del 60% logra un acc de 70.4% (el minimo de la función de Acc y que junto con el Decision Tree logran tener un comportamiento muy similar solo que este último modelo en el FB Score reacciona mucho más fuerte ante cambios en los cortes del target_percentage. \n",
    "\n",
    "Adicionalmente, el omodelo Logistic Regression es un modelo que visto desde la gráfica de Acc tambien tiene un comportamiento convexo (pero RandomForest es mejor por el acc minimo que logra tener ) y su pendiente tanto en el F1 como en el FBeta es muy inclinada (lo que significa que reacciona muy fuerte ante cambios en los cortes del target_porcentage).\n",
    "\n",
    "Por esto se concluye que el mejor modelo es RandomForest con un corte de balanceo del 60% obteniendo un Acc de 70.4% "
   ]
  },
  {
   "cell_type": "code",
   "execution_count": 17,
   "metadata": {
    "scrolled": false
   },
   "outputs": [
    {
     "name": "stdout",
     "output_type": "stream",
     "text": [
      "Resampled dataset shape Counter({0: 552, 1: 552})\n",
      "\n",
      "Logistic Regression :\n",
      "F1 Score:  0.019662442461783256\n",
      "Accurancy:  0.5854818944181465\n",
      "FBeta Score:  0.01006831100956815\n",
      "\n",
      "Decision Tree :\n",
      "F1 Score:  0.022653282691264244\n",
      "Accurancy:  0.6537472667419564\n",
      "FBeta Score:  0.011631250668036648\n",
      "\n",
      "RandomForest :\n",
      "F1 Score:  0.033880797438281166\n",
      "Accurancy:  0.775260110051181\n",
      "FBeta Score:  0.01754949170679508\n",
      "\n",
      "SVM :\n",
      "F1 Score:  0.019371282922684793\n",
      "Accurancy:  0.5839921186053776\n",
      "FBeta Score:  0.009918765021579389\n"
     ]
    }
   ],
   "source": [
    "from collections import Counter\n",
    "from imblearn.under_sampling import RandomUnderSampler\n",
    "rus = RandomUnderSampler(random_state=42)\n",
    "X_train, X_test, y_train, y_test = train_test_split(X, y, test_size=0.30, random_state=42)\n",
    "X_train, y_train = rus.fit_resample(X_train, y_train)\n",
    "print('Resampled dataset shape %s' % Counter(y_train))\n",
    "for key, value  in models.items():\n",
    "    value.fit(X_train, y_train.ravel())\n",
    "    y_pred = value.predict(X_test)\n",
    "    print()\n",
    "    print(key,':')\n",
    "    print('F1 Score: ', f1_score(y_pred, y_test))\n",
    "    print('Accurancy: ', accuracy_score(y_pred, y_test))\n",
    "    print('FBeta Score: ', fbeta_score(y_pred, y_test, beta=10))"
   ]
  },
  {
   "cell_type": "markdown",
   "metadata": {},
   "source": [
    "# Exercise 15.3\n",
    "\n",
    "Same analysis using random-over-sampling"
   ]
  },
  {
   "cell_type": "code",
   "execution_count": 38,
   "metadata": {},
   "outputs": [],
   "source": [
    "import random\n",
    "def OverSampling(X, y, target_percentage=0.5, seed=42):\n",
    "    # Assuming minority class is the positive\n",
    "    n_samples = y.shape[0]\n",
    "    n_samples_0 = (y == 0).sum()\n",
    "    n_samples_1 = (y == 1).sum()\n",
    "\n",
    "    n_samples_1_new =  -target_percentage * n_samples_0 / (target_percentage- 1)\n",
    "\n",
    "    np.random.seed(seed)\n",
    "    filter_ = np.random.choice(X[y == 1].index, int(n_samples_1_new))\n",
    "    # filter_ is within the positives, change to be of all\n",
    "    #filter_ = np.nonzero(y == 1)[0][filter_]\n",
    "    #filter_ = np.concatenate((filter_, np.nonzero(y == 0)[0]), axis=0)\n",
    "    \n",
    "    filter_ = indices_train = np.concatenate([filter_,X[y == 0].index])    \n",
    "    return X.loc[filter_], y[filter_]"
   ]
  },
  {
   "cell_type": "code",
   "execution_count": 39,
   "metadata": {},
   "outputs": [
    {
     "name": "stderr",
     "output_type": "stream",
     "text": [
      "C:\\ProgramData\\Anaconda3\\lib\\site-packages\\sklearn\\svm\\base.py:922: ConvergenceWarning: Liblinear failed to converge, increase the number of iterations.\n",
      "  \"the number of iterations.\", ConvergenceWarning)\n",
      "C:\\ProgramData\\Anaconda3\\lib\\site-packages\\sklearn\\svm\\base.py:922: ConvergenceWarning: Liblinear failed to converge, increase the number of iterations.\n",
      "  \"the number of iterations.\", ConvergenceWarning)\n"
     ]
    }
   ],
   "source": [
    "ac_s=[]\n",
    "for target_percentage in [0.1, 0.2, 0.3, 0.4, 0.5, 0.6, 0.7, 0.8, 0.9]:\n",
    "    X_train, X_test, y_train, y_test = train_test_split(X, y, test_size=0.30, random_state=42)\n",
    "    X_train, y_train = OverSampling(X_train, y_train, target_percentage, 1)\n",
    "    y_pred_new = pd.DataFrame (columns =models.keys(),index= y_test.index )\n",
    "    for i, model  in models.items():\n",
    "        model.fit(X_train, y_train)\n",
    "        y_pred_new[i] = model.predict(X_test) \n",
    "    for model in models.keys():\n",
    "        ac_s.append([model, target_percentage, accuracy_score(y_pred_new[model], y_test), f1_score(y_pred_new[model], y_test), fbeta_score(y_pred_new[model], y_test, beta=10)])\n",
    "ac_s = pd.DataFrame(ac_s, columns=['Model', 'target_percentage', 'Acc', 'F1 Score', 'FBeta Score'])"
   ]
  },
  {
   "cell_type": "code",
   "execution_count": 40,
   "metadata": {},
   "outputs": [
    {
     "data": {
      "text/html": [
       "<div>\n",
       "<style scoped>\n",
       "    .dataframe tbody tr th:only-of-type {\n",
       "        vertical-align: middle;\n",
       "    }\n",
       "\n",
       "    .dataframe tbody tr th {\n",
       "        vertical-align: top;\n",
       "    }\n",
       "\n",
       "    .dataframe thead th {\n",
       "        text-align: right;\n",
       "    }\n",
       "</style>\n",
       "<table border=\"1\" class=\"dataframe\">\n",
       "  <thead>\n",
       "    <tr style=\"text-align: right;\">\n",
       "      <th></th>\n",
       "      <th>Model</th>\n",
       "      <th>target_percentage</th>\n",
       "      <th>Acc</th>\n",
       "      <th>F1 Score</th>\n",
       "      <th>FBeta Score</th>\n",
       "    </tr>\n",
       "  </thead>\n",
       "  <tbody>\n",
       "    <tr>\n",
       "      <th>0</th>\n",
       "      <td>Logistic Regression</td>\n",
       "      <td>0.1</td>\n",
       "      <td>0.993729</td>\n",
       "      <td>0.000000</td>\n",
       "      <td>0.000000</td>\n",
       "    </tr>\n",
       "    <tr>\n",
       "      <th>1</th>\n",
       "      <td>Decision Tree</td>\n",
       "      <td>0.1</td>\n",
       "      <td>0.988899</td>\n",
       "      <td>0.144444</td>\n",
       "      <td>0.132426</td>\n",
       "    </tr>\n",
       "    <tr>\n",
       "      <th>2</th>\n",
       "      <td>RandomForest</td>\n",
       "      <td>0.1</td>\n",
       "      <td>0.993632</td>\n",
       "      <td>0.164038</td>\n",
       "      <td>0.352720</td>\n",
       "    </tr>\n",
       "    <tr>\n",
       "      <th>3</th>\n",
       "      <td>SVM</td>\n",
       "      <td>0.1</td>\n",
       "      <td>0.993656</td>\n",
       "      <td>0.000000</td>\n",
       "      <td>0.000000</td>\n",
       "    </tr>\n",
       "    <tr>\n",
       "      <th>4</th>\n",
       "      <td>Logistic Regression</td>\n",
       "      <td>0.2</td>\n",
       "      <td>0.992095</td>\n",
       "      <td>0.000000</td>\n",
       "      <td>0.000000</td>\n",
       "    </tr>\n",
       "    <tr>\n",
       "      <th>5</th>\n",
       "      <td>Decision Tree</td>\n",
       "      <td>0.2</td>\n",
       "      <td>0.990533</td>\n",
       "      <td>0.165254</td>\n",
       "      <td>0.171671</td>\n",
       "    </tr>\n",
       "    <tr>\n",
       "      <th>6</th>\n",
       "      <td>RandomForest</td>\n",
       "      <td>0.2</td>\n",
       "      <td>0.993704</td>\n",
       "      <td>0.165605</td>\n",
       "      <td>0.367530</td>\n",
       "    </tr>\n",
       "    <tr>\n",
       "      <th>7</th>\n",
       "      <td>SVM</td>\n",
       "      <td>0.2</td>\n",
       "      <td>0.991710</td>\n",
       "      <td>0.011461</td>\n",
       "      <td>0.018976</td>\n",
       "    </tr>\n",
       "    <tr>\n",
       "      <th>8</th>\n",
       "      <td>Logistic Regression</td>\n",
       "      <td>0.3</td>\n",
       "      <td>0.946801</td>\n",
       "      <td>0.042388</td>\n",
       "      <td>0.023915</td>\n",
       "    </tr>\n",
       "    <tr>\n",
       "      <th>9</th>\n",
       "      <td>Decision Tree</td>\n",
       "      <td>0.3</td>\n",
       "      <td>0.989524</td>\n",
       "      <td>0.120968</td>\n",
       "      <td>0.119550</td>\n",
       "    </tr>\n",
       "    <tr>\n",
       "      <th>10</th>\n",
       "      <td>RandomForest</td>\n",
       "      <td>0.3</td>\n",
       "      <td>0.993704</td>\n",
       "      <td>0.143791</td>\n",
       "      <td>0.350197</td>\n",
       "    </tr>\n",
       "    <tr>\n",
       "      <th>11</th>\n",
       "      <td>SVM</td>\n",
       "      <td>0.3</td>\n",
       "      <td>0.958935</td>\n",
       "      <td>0.041503</td>\n",
       "      <td>0.024259</td>\n",
       "    </tr>\n",
       "    <tr>\n",
       "      <th>12</th>\n",
       "      <td>Logistic Regression</td>\n",
       "      <td>0.4</td>\n",
       "      <td>0.904462</td>\n",
       "      <td>0.040077</td>\n",
       "      <td>0.021498</td>\n",
       "    </tr>\n",
       "    <tr>\n",
       "      <th>13</th>\n",
       "      <td>Decision Tree</td>\n",
       "      <td>0.4</td>\n",
       "      <td>0.990028</td>\n",
       "      <td>0.140787</td>\n",
       "      <td>0.142816</td>\n",
       "    </tr>\n",
       "    <tr>\n",
       "      <th>14</th>\n",
       "      <td>RandomForest</td>\n",
       "      <td>0.4</td>\n",
       "      <td>0.993608</td>\n",
       "      <td>0.141935</td>\n",
       "      <td>0.329429</td>\n",
       "    </tr>\n",
       "    <tr>\n",
       "      <th>15</th>\n",
       "      <td>SVM</td>\n",
       "      <td>0.4</td>\n",
       "      <td>0.886777</td>\n",
       "      <td>0.030852</td>\n",
       "      <td>0.016398</td>\n",
       "    </tr>\n",
       "    <tr>\n",
       "      <th>16</th>\n",
       "      <td>Logistic Regression</td>\n",
       "      <td>0.5</td>\n",
       "      <td>0.600812</td>\n",
       "      <td>0.020633</td>\n",
       "      <td>0.010571</td>\n",
       "    </tr>\n",
       "    <tr>\n",
       "      <th>17</th>\n",
       "      <td>Decision Tree</td>\n",
       "      <td>0.5</td>\n",
       "      <td>0.989620</td>\n",
       "      <td>0.107438</td>\n",
       "      <td>0.108760</td>\n",
       "    </tr>\n",
       "    <tr>\n",
       "      <th>18</th>\n",
       "      <td>RandomForest</td>\n",
       "      <td>0.5</td>\n",
       "      <td>0.993464</td>\n",
       "      <td>0.133758</td>\n",
       "      <td>0.296851</td>\n",
       "    </tr>\n",
       "    <tr>\n",
       "      <th>19</th>\n",
       "      <td>SVM</td>\n",
       "      <td>0.5</td>\n",
       "      <td>0.516159</td>\n",
       "      <td>0.018139</td>\n",
       "      <td>0.009270</td>\n",
       "    </tr>\n",
       "    <tr>\n",
       "      <th>20</th>\n",
       "      <td>Logistic Regression</td>\n",
       "      <td>0.6</td>\n",
       "      <td>0.342432</td>\n",
       "      <td>0.016743</td>\n",
       "      <td>0.008530</td>\n",
       "    </tr>\n",
       "    <tr>\n",
       "      <th>21</th>\n",
       "      <td>Decision Tree</td>\n",
       "      <td>0.6</td>\n",
       "      <td>0.990172</td>\n",
       "      <td>0.116631</td>\n",
       "      <td>0.123702</td>\n",
       "    </tr>\n",
       "    <tr>\n",
       "      <th>22</th>\n",
       "      <td>RandomForest</td>\n",
       "      <td>0.6</td>\n",
       "      <td>0.993680</td>\n",
       "      <td>0.137705</td>\n",
       "      <td>0.339632</td>\n",
       "    </tr>\n",
       "    <tr>\n",
       "      <th>23</th>\n",
       "      <td>SVM</td>\n",
       "      <td>0.6</td>\n",
       "      <td>0.259629</td>\n",
       "      <td>0.015214</td>\n",
       "      <td>0.007743</td>\n",
       "    </tr>\n",
       "    <tr>\n",
       "      <th>24</th>\n",
       "      <td>Logistic Regression</td>\n",
       "      <td>0.7</td>\n",
       "      <td>0.242065</td>\n",
       "      <td>0.014805</td>\n",
       "      <td>0.007533</td>\n",
       "    </tr>\n",
       "    <tr>\n",
       "      <th>25</th>\n",
       "      <td>Decision Tree</td>\n",
       "      <td>0.7</td>\n",
       "      <td>0.990340</td>\n",
       "      <td>0.110619</td>\n",
       "      <td>0.120554</td>\n",
       "    </tr>\n",
       "    <tr>\n",
       "      <th>26</th>\n",
       "      <td>RandomForest</td>\n",
       "      <td>0.7</td>\n",
       "      <td>0.993632</td>\n",
       "      <td>0.147910</td>\n",
       "      <td>0.339372</td>\n",
       "    </tr>\n",
       "    <tr>\n",
       "      <th>27</th>\n",
       "      <td>SVM</td>\n",
       "      <td>0.7</td>\n",
       "      <td>0.196050</td>\n",
       "      <td>0.014143</td>\n",
       "      <td>0.007194</td>\n",
       "    </tr>\n",
       "    <tr>\n",
       "      <th>28</th>\n",
       "      <td>Logistic Regression</td>\n",
       "      <td>0.8</td>\n",
       "      <td>0.118173</td>\n",
       "      <td>0.012964</td>\n",
       "      <td>0.006590</td>\n",
       "    </tr>\n",
       "    <tr>\n",
       "      <th>29</th>\n",
       "      <td>Decision Tree</td>\n",
       "      <td>0.8</td>\n",
       "      <td>0.990893</td>\n",
       "      <td>0.124711</td>\n",
       "      <td>0.143187</td>\n",
       "    </tr>\n",
       "    <tr>\n",
       "      <th>30</th>\n",
       "      <td>RandomForest</td>\n",
       "      <td>0.8</td>\n",
       "      <td>0.993512</td>\n",
       "      <td>0.140127</td>\n",
       "      <td>0.310987</td>\n",
       "    </tr>\n",
       "    <tr>\n",
       "      <th>31</th>\n",
       "      <td>SVM</td>\n",
       "      <td>0.8</td>\n",
       "      <td>0.111733</td>\n",
       "      <td>0.012924</td>\n",
       "      <td>0.006569</td>\n",
       "    </tr>\n",
       "    <tr>\n",
       "      <th>32</th>\n",
       "      <td>Logistic Regression</td>\n",
       "      <td>0.9</td>\n",
       "      <td>0.012110</td>\n",
       "      <td>0.011778</td>\n",
       "      <td>0.005983</td>\n",
       "    </tr>\n",
       "    <tr>\n",
       "      <th>33</th>\n",
       "      <td>Decision Tree</td>\n",
       "      <td>0.9</td>\n",
       "      <td>0.990340</td>\n",
       "      <td>0.129870</td>\n",
       "      <td>0.138072</td>\n",
       "    </tr>\n",
       "    <tr>\n",
       "      <th>34</th>\n",
       "      <td>RandomForest</td>\n",
       "      <td>0.9</td>\n",
       "      <td>0.993680</td>\n",
       "      <td>0.143322</td>\n",
       "      <td>0.344763</td>\n",
       "    </tr>\n",
       "    <tr>\n",
       "      <th>35</th>\n",
       "      <td>SVM</td>\n",
       "      <td>0.9</td>\n",
       "      <td>0.006896</td>\n",
       "      <td>0.011717</td>\n",
       "      <td>0.005952</td>\n",
       "    </tr>\n",
       "  </tbody>\n",
       "</table>\n",
       "</div>"
      ],
      "text/plain": [
       "                  Model  target_percentage       Acc  F1 Score  FBeta Score\n",
       "0   Logistic Regression                0.1  0.993729  0.000000     0.000000\n",
       "1         Decision Tree                0.1  0.988899  0.144444     0.132426\n",
       "2          RandomForest                0.1  0.993632  0.164038     0.352720\n",
       "3                   SVM                0.1  0.993656  0.000000     0.000000\n",
       "4   Logistic Regression                0.2  0.992095  0.000000     0.000000\n",
       "5         Decision Tree                0.2  0.990533  0.165254     0.171671\n",
       "6          RandomForest                0.2  0.993704  0.165605     0.367530\n",
       "7                   SVM                0.2  0.991710  0.011461     0.018976\n",
       "8   Logistic Regression                0.3  0.946801  0.042388     0.023915\n",
       "9         Decision Tree                0.3  0.989524  0.120968     0.119550\n",
       "10         RandomForest                0.3  0.993704  0.143791     0.350197\n",
       "11                  SVM                0.3  0.958935  0.041503     0.024259\n",
       "12  Logistic Regression                0.4  0.904462  0.040077     0.021498\n",
       "13        Decision Tree                0.4  0.990028  0.140787     0.142816\n",
       "14         RandomForest                0.4  0.993608  0.141935     0.329429\n",
       "15                  SVM                0.4  0.886777  0.030852     0.016398\n",
       "16  Logistic Regression                0.5  0.600812  0.020633     0.010571\n",
       "17        Decision Tree                0.5  0.989620  0.107438     0.108760\n",
       "18         RandomForest                0.5  0.993464  0.133758     0.296851\n",
       "19                  SVM                0.5  0.516159  0.018139     0.009270\n",
       "20  Logistic Regression                0.6  0.342432  0.016743     0.008530\n",
       "21        Decision Tree                0.6  0.990172  0.116631     0.123702\n",
       "22         RandomForest                0.6  0.993680  0.137705     0.339632\n",
       "23                  SVM                0.6  0.259629  0.015214     0.007743\n",
       "24  Logistic Regression                0.7  0.242065  0.014805     0.007533\n",
       "25        Decision Tree                0.7  0.990340  0.110619     0.120554\n",
       "26         RandomForest                0.7  0.993632  0.147910     0.339372\n",
       "27                  SVM                0.7  0.196050  0.014143     0.007194\n",
       "28  Logistic Regression                0.8  0.118173  0.012964     0.006590\n",
       "29        Decision Tree                0.8  0.990893  0.124711     0.143187\n",
       "30         RandomForest                0.8  0.993512  0.140127     0.310987\n",
       "31                  SVM                0.8  0.111733  0.012924     0.006569\n",
       "32  Logistic Regression                0.9  0.012110  0.011778     0.005983\n",
       "33        Decision Tree                0.9  0.990340  0.129870     0.138072\n",
       "34         RandomForest                0.9  0.993680  0.143322     0.344763\n",
       "35                  SVM                0.9  0.006896  0.011717     0.005952"
      ]
     },
     "execution_count": 40,
     "metadata": {},
     "output_type": "execute_result"
    }
   ],
   "source": [
    "ac_s"
   ]
  },
  {
   "cell_type": "code",
   "execution_count": 41,
   "metadata": {},
   "outputs": [
    {
     "data": {
      "text/plain": [
       "<matplotlib.axes._subplots.AxesSubplot at 0x277a7bbce10>"
      ]
     },
     "execution_count": 41,
     "metadata": {},
     "output_type": "execute_result"
    },
    {
     "data": {
      "image/png": "[encoded data removed]",
      "text/plain": [
       "<Figure size 432x288 with 1 Axes>"
      ]
     },
     "metadata": {
      "needs_background": "light"
     },
     "output_type": "display_data"
    }
   ],
   "source": [
    "import seaborn as sns\n",
    "sns.lineplot(x=\"target_percentage\", y=\"Acc\", hue=\"Model\", data=ac_s)"
   ]
  },
  {
   "cell_type": "code",
   "execution_count": 42,
   "metadata": {},
   "outputs": [
    {
     "data": {
      "text/plain": [
       "<matplotlib.axes._subplots.AxesSubplot at 0x277adfc6c18>"
      ]
     },
     "execution_count": 42,
     "metadata": {},
     "output_type": "execute_result"
    },
    {
     "data": {
      "image/png": "[encoded data removed]",
      "text/plain": [
       "<Figure size 432x288 with 1 Axes>"
      ]
     },
     "metadata": {
      "needs_background": "light"
     },
     "output_type": "display_data"
    }
   ],
   "source": [
    "sns.lineplot(x=\"target_percentage\", y=\"F1 Score\", hue=\"Model\", data=ac_s)"
   ]
  },
  {
   "cell_type": "code",
   "execution_count": 43,
   "metadata": {
    "scrolled": false
   },
   "outputs": [
    {
     "data": {
      "text/plain": [
       "<matplotlib.axes._subplots.AxesSubplot at 0x277a58f8358>"
      ]
     },
     "execution_count": 43,
     "metadata": {},
     "output_type": "execute_result"
    },
    {
     "data": {
      "image/png": "[encoded data removed]",
      "text/plain": [
       "<Figure size 432x288 with 1 Axes>"
      ]
     },
     "metadata": {
      "needs_background": "light"
     },
     "output_type": "display_data"
    }
   ],
   "source": [
    "sns.lineplot(x=\"target_percentage\", y=\"FBeta Score\", hue=\"Model\", data=ac_s)"
   ]
  },
  {
   "cell_type": "code",
   "execution_count": 26,
   "metadata": {},
   "outputs": [
    {
     "name": "stdout",
     "output_type": "stream",
     "text": [
      "Resampled dataset shape Counter({0: 96552, 1: 96552})\n",
      "\n",
      "Logistic Regression :\n",
      "F1 Score:  0.019901038551465387\n",
      "Accurancy:  0.5668837254006777\n",
      "FBeta Score:  0.010184340811474258\n",
      "\n",
      "Decision Tree :\n",
      "F1 Score:  0.12836438923395446\n",
      "Accurancy:  0.9898839416584568\n",
      "FBeta Score:  0.13021418174256605\n",
      "\n",
      "RandomForest :\n",
      "F1 Score:  0.132013201320132\n",
      "Accurancy:  0.9936804671168032\n",
      "FBeta Score:  0.33416046319272125\n",
      "\n",
      "SVM :\n",
      "F1 Score:  0.017906942609716717\n",
      "Accurancy:  0.5176730662950236\n",
      "FBeta Score:  0.009151608327206018\n"
     ]
    }
   ],
   "source": [
    "from imblearn.over_sampling import RandomOverSampler\n",
    "from collections import Counter\n",
    "ros = RandomOverSampler(random_state=42)\n",
    "X_train, X_test, y_train, y_test = train_test_split(X, y, test_size=0.30, random_state=42)\n",
    "X_train, y_train = ros.fit_resample(X_train, y_train)\n",
    "print('Resampled dataset shape %s' % Counter(y_train))\n",
    "for key, value  in models.items():\n",
    "    value.fit(X_train, y_train.ravel())\n",
    "    y_pred = value.predict(X_test)\n",
    "    print()\n",
    "    print(key,':')\n",
    "    print('F1 Score: ', f1_score(y_pred, y_test))\n",
    "    print('Accurancy: ', accuracy_score(y_pred, y_test))\n",
    "    print('FBeta Score: ', fbeta_score(y_pred, y_test, beta=10))"
   ]
  },
  {
   "cell_type": "markdown",
   "metadata": {},
   "source": [
    "# Exercise 15.4 (3 points)\n",
    "\n",
    "Evaluate the results using SMOTE\n",
    "\n",
    "Which parameters did you choose?"
   ]
  },
  {
   "cell_type": "code",
   "execution_count": 27,
   "metadata": {},
   "outputs": [],
   "source": [
    "def SMOTE(X, y, target_percentage=0.5, k=5, seed=None):\n",
    "    n_samples = y.shape[0]\n",
    "    n_samples_0 = (y == 0).sum()\n",
    "    n_samples_1 = (y == 1).sum()  \n",
    "    # New samples\n",
    "    n_samples_1_new =  int(-target_percentage * n_samples_0 / (target_percentage- 1) - n_samples_1)\n",
    "    # A matrix to store the synthetic samples\n",
    "    new = np.zeros((n_samples_1_new, X.shape[1]))\n",
    "    # Create seeds\n",
    "    np.random.seed(seed)\n",
    "    seeds = np.random.randint(1, 1000000, 3)\n",
    "    # Select examples to use as base\n",
    "    np.random.seed(seeds[0])\n",
    "    sel_ = np.random.choice(y[y==1].shape[0], n_samples_1_new)\n",
    "    # Define random seeds (2 per example)\n",
    "    np.random.seed(seeds[1])\n",
    "    nn__ = np.random.choice(k, n_samples_1_new)\n",
    "    np.random.seed(seeds[2])\n",
    "    steps = np.random.uniform(size=n_samples_1_new)  \n",
    "    # For each selected examples create one synthetic case\n",
    "    for i, sel in enumerate(sel_):\n",
    "        # Select neighbor\n",
    "        nn_ = nn__[i]\n",
    "        step = steps[i]\n",
    "        # Create new sample\n",
    "        new[i, :] = X[y==1][sel] - step * (X[y==1][sel] - X[y==1][nn_])\n",
    "    X = np.vstack((X, new))\n",
    "    y = np.append(y, np.ones(n_samples_1_new))\n",
    "    return X, y"
   ]
  },
  {
   "cell_type": "code",
   "execution_count": 28,
   "metadata": {
    "scrolled": true
   },
   "outputs": [],
   "source": [
    "ac_s =[]\n",
    "for target_percentage in [0.25, 0.5]:\n",
    "    for k in [5, 15]:\n",
    "        X_train, X_test, y_train, y_test = train_test_split(X, y, test_size=0.30, random_state=42)\n",
    "        X_train, y_train = SMOTE(X_train.values, y_train, target_percentage, k, seed=3)\n",
    "        for key, value  in models.items():\n",
    "            value.fit(X_train, y_train)\n",
    "            y_pred = value.predict(X_test) \n",
    "            ac_s.append([key, target_percentage, k, accuracy_score(y_pred, y_test), f1_score(y_pred, y_test), fbeta_score(y_pred, y_test, beta=10)])\n",
    "ac_s = pd.DataFrame(ac_s, columns=['Model', 'target_percentage','k', 'Acc', 'F1 Score', 'FBeta Score'])"
   ]
  },
  {
   "cell_type": "code",
   "execution_count": 29,
   "metadata": {
    "scrolled": false
   },
   "outputs": [
    {
     "data": {
      "text/html": [
       "<div>\n",
       "<style scoped>\n",
       "    .dataframe tbody tr th:only-of-type {\n",
       "        vertical-align: middle;\n",
       "    }\n",
       "\n",
       "    .dataframe tbody tr th {\n",
       "        vertical-align: top;\n",
       "    }\n",
       "\n",
       "    .dataframe thead th {\n",
       "        text-align: right;\n",
       "    }\n",
       "</style>\n",
       "<table border=\"1\" class=\"dataframe\">\n",
       "  <thead>\n",
       "    <tr style=\"text-align: right;\">\n",
       "      <th></th>\n",
       "      <th>Model</th>\n",
       "      <th>target_percentage</th>\n",
       "      <th>k</th>\n",
       "      <th>Acc</th>\n",
       "      <th>F1 Score</th>\n",
       "      <th>FBeta Score</th>\n",
       "    </tr>\n",
       "  </thead>\n",
       "  <tbody>\n",
       "    <tr>\n",
       "      <th>0</th>\n",
       "      <td>Logistic Regression</td>\n",
       "      <td>0.25</td>\n",
       "      <td>5</td>\n",
       "      <td>0.974578</td>\n",
       "      <td>0.027574</td>\n",
       "      <td>0.017919</td>\n",
       "    </tr>\n",
       "    <tr>\n",
       "      <th>1</th>\n",
       "      <td>Decision Tree</td>\n",
       "      <td>0.25</td>\n",
       "      <td>5</td>\n",
       "      <td>0.984285</td>\n",
       "      <td>0.111413</td>\n",
       "      <td>0.083919</td>\n",
       "    </tr>\n",
       "    <tr>\n",
       "      <th>2</th>\n",
       "      <td>RandomForest</td>\n",
       "      <td>0.25</td>\n",
       "      <td>5</td>\n",
       "      <td>0.993416</td>\n",
       "      <td>0.092715</td>\n",
       "      <td>0.237847</td>\n",
       "    </tr>\n",
       "    <tr>\n",
       "      <th>3</th>\n",
       "      <td>SVM</td>\n",
       "      <td>0.25</td>\n",
       "      <td>5</td>\n",
       "      <td>0.992767</td>\n",
       "      <td>0.000000</td>\n",
       "      <td>0.000000</td>\n",
       "    </tr>\n",
       "    <tr>\n",
       "      <th>4</th>\n",
       "      <td>Logistic Regression</td>\n",
       "      <td>0.25</td>\n",
       "      <td>15</td>\n",
       "      <td>0.953000</td>\n",
       "      <td>0.045854</td>\n",
       "      <td>0.026264</td>\n",
       "    </tr>\n",
       "    <tr>\n",
       "      <th>5</th>\n",
       "      <td>Decision Tree</td>\n",
       "      <td>0.25</td>\n",
       "      <td>15</td>\n",
       "      <td>0.982723</td>\n",
       "      <td>0.106832</td>\n",
       "      <td>0.077216</td>\n",
       "    </tr>\n",
       "    <tr>\n",
       "      <th>6</th>\n",
       "      <td>RandomForest</td>\n",
       "      <td>0.25</td>\n",
       "      <td>15</td>\n",
       "      <td>0.993128</td>\n",
       "      <td>0.133333</td>\n",
       "      <td>0.254088</td>\n",
       "    </tr>\n",
       "    <tr>\n",
       "      <th>7</th>\n",
       "      <td>SVM</td>\n",
       "      <td>0.25</td>\n",
       "      <td>15</td>\n",
       "      <td>0.965855</td>\n",
       "      <td>0.043098</td>\n",
       "      <td>0.026013</td>\n",
       "    </tr>\n",
       "    <tr>\n",
       "      <th>8</th>\n",
       "      <td>Logistic Regression</td>\n",
       "      <td>0.50</td>\n",
       "      <td>5</td>\n",
       "      <td>0.648077</td>\n",
       "      <td>0.018496</td>\n",
       "      <td>0.009495</td>\n",
       "    </tr>\n",
       "    <tr>\n",
       "      <th>9</th>\n",
       "      <td>Decision Tree</td>\n",
       "      <td>0.50</td>\n",
       "      <td>5</td>\n",
       "      <td>0.983492</td>\n",
       "      <td>0.094862</td>\n",
       "      <td>0.070404</td>\n",
       "    </tr>\n",
       "    <tr>\n",
       "      <th>10</th>\n",
       "      <td>RandomForest</td>\n",
       "      <td>0.50</td>\n",
       "      <td>5</td>\n",
       "      <td>0.993032</td>\n",
       "      <td>0.131737</td>\n",
       "      <td>0.242974</td>\n",
       "    </tr>\n",
       "    <tr>\n",
       "      <th>11</th>\n",
       "      <td>SVM</td>\n",
       "      <td>0.50</td>\n",
       "      <td>5</td>\n",
       "      <td>0.601317</td>\n",
       "      <td>0.016479</td>\n",
       "      <td>0.008443</td>\n",
       "    </tr>\n",
       "    <tr>\n",
       "      <th>12</th>\n",
       "      <td>Logistic Regression</td>\n",
       "      <td>0.50</td>\n",
       "      <td>15</td>\n",
       "      <td>0.680804</td>\n",
       "      <td>0.020498</td>\n",
       "      <td>0.010540</td>\n",
       "    </tr>\n",
       "    <tr>\n",
       "      <th>13</th>\n",
       "      <td>Decision Tree</td>\n",
       "      <td>0.50</td>\n",
       "      <td>15</td>\n",
       "      <td>0.980393</td>\n",
       "      <td>0.093333</td>\n",
       "      <td>0.064522</td>\n",
       "    </tr>\n",
       "    <tr>\n",
       "      <th>14</th>\n",
       "      <td>RandomForest</td>\n",
       "      <td>0.50</td>\n",
       "      <td>15</td>\n",
       "      <td>0.992095</td>\n",
       "      <td>0.158568</td>\n",
       "      <td>0.210913</td>\n",
       "    </tr>\n",
       "    <tr>\n",
       "      <th>15</th>\n",
       "      <td>SVM</td>\n",
       "      <td>0.50</td>\n",
       "      <td>15</td>\n",
       "      <td>0.607204</td>\n",
       "      <td>0.017667</td>\n",
       "      <td>0.009054</td>\n",
       "    </tr>\n",
       "  </tbody>\n",
       "</table>\n",
       "</div>"
      ],
      "text/plain": [
       "                  Model  target_percentage   k       Acc  F1 Score  \\\n",
       "0   Logistic Regression               0.25   5  0.974578  0.027574   \n",
       "1         Decision Tree               0.25   5  0.984285  0.111413   \n",
       "2          RandomForest               0.25   5  0.993416  0.092715   \n",
       "3                   SVM               0.25   5  0.992767  0.000000   \n",
       "4   Logistic Regression               0.25  15  0.953000  0.045854   \n",
       "5         Decision Tree               0.25  15  0.982723  0.106832   \n",
       "6          RandomForest               0.25  15  0.993128  0.133333   \n",
       "7                   SVM               0.25  15  0.965855  0.043098   \n",
       "8   Logistic Regression               0.50   5  0.648077  0.018496   \n",
       "9         Decision Tree               0.50   5  0.983492  0.094862   \n",
       "10         RandomForest               0.50   5  0.993032  0.131737   \n",
       "11                  SVM               0.50   5  0.601317  0.016479   \n",
       "12  Logistic Regression               0.50  15  0.680804  0.020498   \n",
       "13        Decision Tree               0.50  15  0.980393  0.093333   \n",
       "14         RandomForest               0.50  15  0.992095  0.158568   \n",
       "15                  SVM               0.50  15  0.607204  0.017667   \n",
       "\n",
       "    FBeta Score  \n",
       "0      0.017919  \n",
       "1      0.083919  \n",
       "2      0.237847  \n",
       "3      0.000000  \n",
       "4      0.026264  \n",
       "5      0.077216  \n",
       "6      0.254088  \n",
       "7      0.026013  \n",
       "8      0.009495  \n",
       "9      0.070404  \n",
       "10     0.242974  \n",
       "11     0.008443  \n",
       "12     0.010540  \n",
       "13     0.064522  \n",
       "14     0.210913  \n",
       "15     0.009054  "
      ]
     },
     "execution_count": 29,
     "metadata": {},
     "output_type": "execute_result"
    }
   ],
   "source": [
    "ac_s"
   ]
  },
  {
   "cell_type": "code",
   "execution_count": 30,
   "metadata": {},
   "outputs": [
    {
     "data": {
      "text/plain": [
       "<matplotlib.axes._subplots.AxesSubplot at 0x277a744cb00>"
      ]
     },
     "execution_count": 30,
     "metadata": {},
     "output_type": "execute_result"
    },
    {
     "data": {
      "image/png": "[encoded data removed]",
      "text/plain": [
       "<Figure size 432x288 with 1 Axes>"
      ]
     },
     "metadata": {
      "needs_background": "light"
     },
     "output_type": "display_data"
    }
   ],
   "source": [
    "import seaborn as sns\n",
    "sns.lineplot(x=\"target_percentage\", y=\"Acc\", hue=\"Model\", data=ac_s[ac_s['k']==5])"
   ]
  },
  {
   "cell_type": "code",
   "execution_count": 31,
   "metadata": {},
   "outputs": [
    {
     "data": {
      "text/plain": [
       "<matplotlib.axes._subplots.AxesSubplot at 0x277a751ad68>"
      ]
     },
     "execution_count": 31,
     "metadata": {},
     "output_type": "execute_result"
    },
    {
     "data": {
      "image/png": "[encoded data removed]",
      "text/plain": [
       "<Figure size 432x288 with 1 Axes>"
      ]
     },
     "metadata": {
      "needs_background": "light"
     },
     "output_type": "display_data"
    }
   ],
   "source": [
    "sns.lineplot(x=\"target_percentage\", y=\"Acc\", hue=\"Model\", data=ac_s[ac_s['k']==15])"
   ]
  },
  {
   "cell_type": "code",
   "execution_count": 32,
   "metadata": {},
   "outputs": [
    {
     "data": {
      "text/plain": [
       "<matplotlib.axes._subplots.AxesSubplot at 0x277a759ad30>"
      ]
     },
     "execution_count": 32,
     "metadata": {},
     "output_type": "execute_result"
    },
    {
     "data": {
      "image/png": "[encoded data removed]",
      "text/plain": [
       "<Figure size 432x288 with 1 Axes>"
      ]
     },
     "metadata": {
      "needs_background": "light"
     },
     "output_type": "display_data"
    }
   ],
   "source": [
    "sns.lineplot(x=\"target_percentage\", y=\"F1 Score\", hue=\"Model\", data=ac_s[ac_s['k']==5])"
   ]
  },
  {
   "cell_type": "code",
   "execution_count": 33,
   "metadata": {},
   "outputs": [
    {
     "data": {
      "text/plain": [
       "<matplotlib.axes._subplots.AxesSubplot at 0x277a7634fd0>"
      ]
     },
     "execution_count": 33,
     "metadata": {},
     "output_type": "execute_result"
    },
    {
     "data": {
      "image/png": "[encoded data removed]",
      "text/plain": [
       "<Figure size 432x288 with 1 Axes>"
      ]
     },
     "metadata": {
      "needs_background": "light"
     },
     "output_type": "display_data"
    }
   ],
   "source": [
    "sns.lineplot(x=\"target_percentage\", y=\"F1 Score\", hue=\"Model\", data=ac_s[ac_s['k']==15])"
   ]
  },
  {
   "cell_type": "code",
   "execution_count": 34,
   "metadata": {},
   "outputs": [
    {
     "data": {
      "text/plain": [
       "<matplotlib.axes._subplots.AxesSubplot at 0x277a76be710>"
      ]
     },
     "execution_count": 34,
     "metadata": {},
     "output_type": "execute_result"
    },
    {
     "data": {
      "image/png": "[encoded data removed]",
      "text/plain": [
       "<Figure size 432x288 with 1 Axes>"
      ]
     },
     "metadata": {
      "needs_background": "light"
     },
     "output_type": "display_data"
    }
   ],
   "source": [
    "sns.lineplot(x=\"target_percentage\", y=\"FBeta Score\", hue=\"Model\", data=ac_s[ac_s['k']==5])"
   ]
  },
  {
   "cell_type": "code",
   "execution_count": 35,
   "metadata": {},
   "outputs": [
    {
     "data": {
      "text/plain": [
       "<matplotlib.axes._subplots.AxesSubplot at 0x277a7b38e80>"
      ]
     },
     "execution_count": 35,
     "metadata": {},
     "output_type": "execute_result"
    },
    {
     "data": {
      "image/png": "[encoded data removed]",
      "text/plain": [
       "<Figure size 432x288 with 1 Axes>"
      ]
     },
     "metadata": {
      "needs_background": "light"
     },
     "output_type": "display_data"
    }
   ],
   "source": [
    "sns.lineplot(x=\"target_percentage\", y=\"FBeta Score\", hue=\"Model\", data=ac_s[ac_s['k']==15])"
   ]
  },
  {
   "cell_type": "markdown",
   "metadata": {},
   "source": [
    "Dado que con la función vista en clase los modelos RandomForest y Decision Tree no muestran cambios evaluables, se procede a utilizar la función SMOTE del paquete Imblearn.over_sampling para comparar"
   ]
  },
  {
   "cell_type": "code",
   "execution_count": 36,
   "metadata": {},
   "outputs": [
    {
     "name": "stdout",
     "output_type": "stream",
     "text": [
      "Resampled dataset shape Counter({0: 96552, 1: 96552})\n",
      "\n",
      "Logistic Regression :\n",
      "F1 Score:  0.02021276595744681\n",
      "Accurancy:  0.6016531705793305\n",
      "FBeta Score:  0.010355899732872834\n",
      "\n",
      "Decision Tree :\n",
      "F1 Score:  0.09078771695594126\n",
      "Accurancy:  0.9836364947016845\n",
      "FBeta Score:  0.06780531148188369\n",
      "\n",
      "RandomForest :\n",
      "F1 Score:  0.1564245810055866\n",
      "Accurancy:  0.9927433500732874\n",
      "FBeta Score:  0.24495452576873103\n",
      "\n",
      "SVM :\n",
      "F1 Score:  0.01864494561890861\n",
      "Accurancy:  0.49917101184612056\n",
      "FBeta Score:  0.009524467231365304\n"
     ]
    }
   ],
   "source": [
    "from collections import Counter\n",
    "from imblearn.over_sampling import SMOTE\n",
    "sm = SMOTE(random_state=42)\n",
    "X_train, X_test, y_train, y_test = train_test_split(X, y, test_size=0.30, random_state=42)\n",
    "X_train, y_train = sm.fit_resample(X_train, y_train)\n",
    "print('Resampled dataset shape %s' % Counter(y_train))\n",
    "for key, value  in models.items():\n",
    "    value.fit(X_train, y_train.ravel())\n",
    "    y_pred = value.predict(X_test)\n",
    "    print()\n",
    "    print(key,':')\n",
    "    print('F1 Score: ', f1_score(y_pred, y_test))\n",
    "    print('Accurancy: ', accuracy_score(y_pred, y_test))\n",
    "    print('FBeta Score: ', fbeta_score(y_pred, y_test, beta=10))"
   ]
  },
  {
   "cell_type": "markdown",
   "metadata": {},
   "source": [
    "# Exercise 15.5 (3 points)\n",
    "\n",
    "Evaluate the results using Adaptive Synthetic Sampling Approach for Imbalanced\n",
    "Learning (ADASYN)\n",
    "\n",
    "http://www.ele.uri.edu/faculty/he/PDFfiles/adasyn.pdf\n",
    "https://imbalanced-learn.readthedocs.io/en/stable/generated/imblearn.over_sampling.ADASYN.html#rf9172e970ca5-1"
   ]
  },
  {
   "cell_type": "code",
   "execution_count": 37,
   "metadata": {},
   "outputs": [
    {
     "name": "stdout",
     "output_type": "stream",
     "text": [
      "Resampled dataset shape Counter({0: 96552, 1: 96375})\n",
      "\n",
      "Logistic Regression :\n",
      "F1 Score:  0.01907702486629542\n",
      "Accurancy:  0.5725064276617728\n",
      "FBeta Score:  0.009764480048283125\n",
      "\n",
      "Decision Tree :\n",
      "F1 Score:  0.08196721311475409\n",
      "Accurancy:  0.9838527524809573\n",
      "FBeta Score:  0.061906221268771065\n",
      "\n",
      "RandomForest :\n",
      "F1 Score:  0.1643835616438356\n",
      "Accurancy:  0.992671264146863\n",
      "FBeta Score:  0.24744793793385056\n",
      "\n",
      "SVM :\n",
      "F1 Score:  0.01882160392798691\n",
      "Accurancy:  0.5390345291587573\n",
      "FBeta Score:  0.009624303126189507\n"
     ]
    }
   ],
   "source": [
    "from collections import Counter\n",
    "from imblearn.over_sampling import ADASYN \n",
    "ada = ADASYN(random_state=42)\n",
    "X_train, X_test, y_train, y_test = train_test_split(X, y, test_size=0.30, random_state=42)\n",
    "X_train, y_train = ada.fit_resample(X_train, y_train)\n",
    "\n",
    "print('Resampled dataset shape %s' % Counter(y_train))\n",
    "for key, value  in models.items():\n",
    "    value.fit(X_train, y_train.ravel())\n",
    "    y_pred = value.predict(X_test)\n",
    "    print()\n",
    "    print(key,':')\n",
    "    print('F1 Score: ', f1_score(y_pred, y_test))\n",
    "    print('Accurancy: ', accuracy_score(y_pred, y_test))\n",
    "    print('FBeta Score: ', fbeta_score(y_pred, y_test, beta=10))"
   ]
  },
  {
   "cell_type": "markdown",
   "metadata": {},
   "source": [
    "# Exercise 15.6 (3 points)\n",
    "\n",
    "Compare and comment about the results"
   ]
  },
  {
   "cell_type": "markdown",
   "metadata": {},
   "source": [
    "Utilizando UnderSampling se puede encontrar resultados interesantes en comparación a las demás formas de tratar el desbalanceo, aún y utilizando la libreria imblearn versus las funciones manuales vistas en clase, es evidente que los resultados no dan similares a la técnica mencionada al principio.\n",
    "\n",
    "Sin embargo, asumiendo que las funciones en imblearn están haciendo bien la tarea de balancear las clases, se encuentra que la regresión logística tiende a tener unos resultados un poco más acordes a lo que uno esperaría ver (F1 scores y FBetas similares y mayores a .5) con un acc que se encuentra entre el .63 y el .68 en general. \n",
    "\n",
    "La conclusión que más tiene sentido para mi es la que se encuentra utilizando el método de UnderSampling en donde RandomForest logra tener buenos resultados en comparación a los otros modelos comparados. "
   ]
  }
 ],
 "metadata": {
  "kernelspec": {
   "display_name": "Python 3",
   "language": "python",
   "name": "python3"
  },
  "language_info": {
   "codemirror_mode": {
    "name": "ipython",
    "version": 3
   },
   "file_extension": ".py",
   "mimetype": "text/x-python",
   "name": "python",
   "nbconvert_exporter": "python",
   "pygments_lexer": "ipython3",
   "version": "3.7.1"
  }
 },
 "nbformat": 4,
 "nbformat_minor": 1
}
